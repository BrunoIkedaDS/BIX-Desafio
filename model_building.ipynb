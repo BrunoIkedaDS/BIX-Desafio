{
 "cells": [
  {
   "cell_type": "markdown",
   "id": "cdd84729-17df-43c6-81fa-8e0a44a390aa",
   "metadata": {},
   "source": [
    "# Air System Failure Prediction"
   ]
  },
  {
   "cell_type": "code",
   "execution_count": 1,
   "id": "37425e41-7428-442b-a423-c588d20b4344",
   "metadata": {},
   "outputs": [],
   "source": [
    "import numpy as np\n",
    "import pandas as pd\n",
    "import matplotlib.pyplot as plt\n",
    "import pickle\n",
    "\n",
    "from sklearn.model_selection import train_test_split \n",
    "from sklearn.model_selection import cross_val_score, cross_val_predict\n",
    "from sklearn.model_selection import StratifiedKFold\n",
    "from sklearn.base import BaseEstimator, TransformerMixin\n",
    "from sklearn.impute import SimpleImputer\n",
    "from sklearn.preprocessing import StandardScaler\n",
    "from sklearn.decomposition import PCA\n",
    "from sklearn.pipeline import Pipeline\n",
    "\n",
    "from sklearn.tree import DecisionTreeClassifier\n",
    "from sklearn.ensemble import RandomForestClassifier\n",
    "from sklearn.linear_model import LogisticRegression\n",
    "\n",
    "from sklearn.metrics import precision_recall_curve, roc_curve, roc_auc_score, recall_score, precision_score, confusion_matrix\n",
    "\n",
    "from sklearn.model_selection import GridSearchCV, RandomizedSearchCV"
   ]
  },
  {
   "cell_type": "code",
   "execution_count": 2,
   "id": "a5d13e3a-df96-407b-bd7b-832690a522bc",
   "metadata": {},
   "outputs": [
    {
     "name": "stdout",
     "output_type": "stream",
     "text": [
      "json      : 2.0.9\n",
      "matplotlib: 3.8.0\n",
      "numpy     : 1.26.4\n",
      "IPython   : 8.20.0\n",
      "sys       : 3.11.7 | packaged by Anaconda, Inc. | (main, Dec 15 2023, 18:05:47) [MSC v.1916 64 bit (AMD64)]\n",
      "sklearn   : 1.2.2\n",
      "pandas    : 2.1.4\n",
      "\n"
     ]
    }
   ],
   "source": [
    "%load_ext watermark\n",
    "%watermark --iversions"
   ]
  },
  {
   "cell_type": "markdown",
   "id": "1e65544b-d3a6-4cf2-8b14-37594b3185be",
   "metadata": {},
   "source": [
    "Versions used on this project"
   ]
  },
  {
   "cell_type": "markdown",
   "id": "7e1c8b8c-5b0f-402f-be9e-2bc66c80f829",
   "metadata": {},
   "source": [
    "## Loading Data"
   ]
  },
  {
   "cell_type": "code",
   "execution_count": 3,
   "id": "fb73d7f5-ff1e-46be-91cc-305f9e3f3c2b",
   "metadata": {},
   "outputs": [
    {
     "data": {
      "text/html": [
       "<div>\n",
       "<style scoped>\n",
       "    .dataframe tbody tr th:only-of-type {\n",
       "        vertical-align: middle;\n",
       "    }\n",
       "\n",
       "    .dataframe tbody tr th {\n",
       "        vertical-align: top;\n",
       "    }\n",
       "\n",
       "    .dataframe thead th {\n",
       "        text-align: right;\n",
       "    }\n",
       "</style>\n",
       "<table border=\"1\" class=\"dataframe\">\n",
       "  <thead>\n",
       "    <tr style=\"text-align: right;\">\n",
       "      <th></th>\n",
       "      <th>class</th>\n",
       "      <th>aa_000</th>\n",
       "      <th>ab_000</th>\n",
       "      <th>ac_000</th>\n",
       "      <th>ad_000</th>\n",
       "      <th>ae_000</th>\n",
       "      <th>af_000</th>\n",
       "      <th>ag_000</th>\n",
       "      <th>ag_001</th>\n",
       "      <th>ag_002</th>\n",
       "      <th>...</th>\n",
       "      <th>ee_002</th>\n",
       "      <th>ee_003</th>\n",
       "      <th>ee_004</th>\n",
       "      <th>ee_005</th>\n",
       "      <th>ee_006</th>\n",
       "      <th>ee_007</th>\n",
       "      <th>ee_008</th>\n",
       "      <th>ee_009</th>\n",
       "      <th>ef_000</th>\n",
       "      <th>eg_000</th>\n",
       "    </tr>\n",
       "  </thead>\n",
       "  <tbody>\n",
       "    <tr>\n",
       "      <th>0</th>\n",
       "      <td>neg</td>\n",
       "      <td>76698</td>\n",
       "      <td>NaN</td>\n",
       "      <td>2.130706e+09</td>\n",
       "      <td>280.0</td>\n",
       "      <td>0.0</td>\n",
       "      <td>0.0</td>\n",
       "      <td>0.0</td>\n",
       "      <td>0.0</td>\n",
       "      <td>0.0</td>\n",
       "      <td>...</td>\n",
       "      <td>1240520.0</td>\n",
       "      <td>493384.0</td>\n",
       "      <td>721044.0</td>\n",
       "      <td>469792.0</td>\n",
       "      <td>339156.0</td>\n",
       "      <td>157956.0</td>\n",
       "      <td>73224.0</td>\n",
       "      <td>0.0</td>\n",
       "      <td>0.0</td>\n",
       "      <td>0.0</td>\n",
       "    </tr>\n",
       "    <tr>\n",
       "      <th>1</th>\n",
       "      <td>neg</td>\n",
       "      <td>33058</td>\n",
       "      <td>NaN</td>\n",
       "      <td>0.000000e+00</td>\n",
       "      <td>NaN</td>\n",
       "      <td>0.0</td>\n",
       "      <td>0.0</td>\n",
       "      <td>0.0</td>\n",
       "      <td>0.0</td>\n",
       "      <td>0.0</td>\n",
       "      <td>...</td>\n",
       "      <td>421400.0</td>\n",
       "      <td>178064.0</td>\n",
       "      <td>293306.0</td>\n",
       "      <td>245416.0</td>\n",
       "      <td>133654.0</td>\n",
       "      <td>81140.0</td>\n",
       "      <td>97576.0</td>\n",
       "      <td>1500.0</td>\n",
       "      <td>0.0</td>\n",
       "      <td>0.0</td>\n",
       "    </tr>\n",
       "    <tr>\n",
       "      <th>2</th>\n",
       "      <td>neg</td>\n",
       "      <td>41040</td>\n",
       "      <td>NaN</td>\n",
       "      <td>2.280000e+02</td>\n",
       "      <td>100.0</td>\n",
       "      <td>0.0</td>\n",
       "      <td>0.0</td>\n",
       "      <td>0.0</td>\n",
       "      <td>0.0</td>\n",
       "      <td>0.0</td>\n",
       "      <td>...</td>\n",
       "      <td>277378.0</td>\n",
       "      <td>159812.0</td>\n",
       "      <td>423992.0</td>\n",
       "      <td>409564.0</td>\n",
       "      <td>320746.0</td>\n",
       "      <td>158022.0</td>\n",
       "      <td>95128.0</td>\n",
       "      <td>514.0</td>\n",
       "      <td>0.0</td>\n",
       "      <td>0.0</td>\n",
       "    </tr>\n",
       "    <tr>\n",
       "      <th>3</th>\n",
       "      <td>neg</td>\n",
       "      <td>12</td>\n",
       "      <td>0.0</td>\n",
       "      <td>7.000000e+01</td>\n",
       "      <td>66.0</td>\n",
       "      <td>0.0</td>\n",
       "      <td>10.0</td>\n",
       "      <td>0.0</td>\n",
       "      <td>0.0</td>\n",
       "      <td>0.0</td>\n",
       "      <td>...</td>\n",
       "      <td>240.0</td>\n",
       "      <td>46.0</td>\n",
       "      <td>58.0</td>\n",
       "      <td>44.0</td>\n",
       "      <td>10.0</td>\n",
       "      <td>0.0</td>\n",
       "      <td>0.0</td>\n",
       "      <td>0.0</td>\n",
       "      <td>4.0</td>\n",
       "      <td>32.0</td>\n",
       "    </tr>\n",
       "    <tr>\n",
       "      <th>4</th>\n",
       "      <td>neg</td>\n",
       "      <td>60874</td>\n",
       "      <td>NaN</td>\n",
       "      <td>1.368000e+03</td>\n",
       "      <td>458.0</td>\n",
       "      <td>0.0</td>\n",
       "      <td>0.0</td>\n",
       "      <td>0.0</td>\n",
       "      <td>0.0</td>\n",
       "      <td>0.0</td>\n",
       "      <td>...</td>\n",
       "      <td>622012.0</td>\n",
       "      <td>229790.0</td>\n",
       "      <td>405298.0</td>\n",
       "      <td>347188.0</td>\n",
       "      <td>286954.0</td>\n",
       "      <td>311560.0</td>\n",
       "      <td>433954.0</td>\n",
       "      <td>1218.0</td>\n",
       "      <td>0.0</td>\n",
       "      <td>0.0</td>\n",
       "    </tr>\n",
       "  </tbody>\n",
       "</table>\n",
       "<p>5 rows × 171 columns</p>\n",
       "</div>"
      ],
      "text/plain": [
       "  class  aa_000  ab_000        ac_000  ad_000  ae_000  af_000  ag_000  ag_001  \\\n",
       "0   neg   76698     NaN  2.130706e+09   280.0     0.0     0.0     0.0     0.0   \n",
       "1   neg   33058     NaN  0.000000e+00     NaN     0.0     0.0     0.0     0.0   \n",
       "2   neg   41040     NaN  2.280000e+02   100.0     0.0     0.0     0.0     0.0   \n",
       "3   neg      12     0.0  7.000000e+01    66.0     0.0    10.0     0.0     0.0   \n",
       "4   neg   60874     NaN  1.368000e+03   458.0     0.0     0.0     0.0     0.0   \n",
       "\n",
       "   ag_002  ...     ee_002    ee_003    ee_004    ee_005    ee_006    ee_007  \\\n",
       "0     0.0  ...  1240520.0  493384.0  721044.0  469792.0  339156.0  157956.0   \n",
       "1     0.0  ...   421400.0  178064.0  293306.0  245416.0  133654.0   81140.0   \n",
       "2     0.0  ...   277378.0  159812.0  423992.0  409564.0  320746.0  158022.0   \n",
       "3     0.0  ...      240.0      46.0      58.0      44.0      10.0       0.0   \n",
       "4     0.0  ...   622012.0  229790.0  405298.0  347188.0  286954.0  311560.0   \n",
       "\n",
       "     ee_008  ee_009  ef_000  eg_000  \n",
       "0   73224.0     0.0     0.0     0.0  \n",
       "1   97576.0  1500.0     0.0     0.0  \n",
       "2   95128.0   514.0     0.0     0.0  \n",
       "3       0.0     0.0     4.0    32.0  \n",
       "4  433954.0  1218.0     0.0     0.0  \n",
       "\n",
       "[5 rows x 171 columns]"
      ]
     },
     "execution_count": 3,
     "metadata": {},
     "output_type": "execute_result"
    }
   ],
   "source": [
    "prev_years = pd.read_csv('data/air_system_previous_years.csv', na_values=['na'])\n",
    "prev_years.head()"
   ]
  },
  {
   "cell_type": "code",
   "execution_count": 4,
   "id": "b6f4b660-54c4-4911-a98d-ccbcf4f51bfa",
   "metadata": {},
   "outputs": [
    {
     "data": {
      "text/plain": [
       "(60000, 171)"
      ]
     },
     "execution_count": 4,
     "metadata": {},
     "output_type": "execute_result"
    }
   ],
   "source": [
    "prev_years.shape"
   ]
  },
  {
   "cell_type": "code",
   "execution_count": 5,
   "id": "750dbb38-503a-49fe-95b0-710cd9db3e5d",
   "metadata": {},
   "outputs": [
    {
     "data": {
      "text/plain": [
       "class\n",
       "neg    59000\n",
       "pos     1000\n",
       "Name: count, dtype: int64"
      ]
     },
     "execution_count": 5,
     "metadata": {},
     "output_type": "execute_result"
    }
   ],
   "source": [
    "prev_years['class'].value_counts()"
   ]
  },
  {
   "cell_type": "markdown",
   "id": "077c11ec-9dc3-47bd-aafd-74e1aca4b39e",
   "metadata": {},
   "source": [
    "## Splitting in train/test data already"
   ]
  },
  {
   "cell_type": "code",
   "execution_count": 6,
   "id": "597ab173-438c-4bc9-9fb2-42e9d7a8fef3",
   "metadata": {},
   "outputs": [],
   "source": [
    "# We will be splitting the data into 80% of train data and 20% of test data. We are using random state. Lately we will use a k-fold validation anyways. \n",
    "train, test = train_test_split(prev_years, test_size=.2)"
   ]
  },
  {
   "cell_type": "markdown",
   "id": "ca888232-a7f0-49e4-aa96-bae50bc90303",
   "metadata": {},
   "source": [
    "## Checking for missing values"
   ]
  },
  {
   "cell_type": "code",
   "execution_count": 7,
   "id": "5d9abce2-09c5-4660-a40b-b40109ef5137",
   "metadata": {},
   "outputs": [
    {
     "data": {
      "text/plain": [
       "class         0\n",
       "aa_000        0\n",
       "ab_000    37028\n",
       "ac_000     2657\n",
       "ad_000    11897\n",
       "          ...  \n",
       "ee_007      528\n",
       "ee_008      528\n",
       "ee_009      528\n",
       "ef_000     2173\n",
       "eg_000     2172\n",
       "Length: 171, dtype: int64"
      ]
     },
     "execution_count": 7,
     "metadata": {},
     "output_type": "execute_result"
    }
   ],
   "source": [
    "missing_values = train.isna().sum()\n",
    "missing_values"
   ]
  },
  {
   "cell_type": "markdown",
   "id": "5a2a3519-d64e-45fe-b038-647369718ee5",
   "metadata": {},
   "source": [
    "Our target columns doesn't have any missing value"
   ]
  },
  {
   "cell_type": "code",
   "execution_count": 8,
   "id": "f289bed8-f923-45f0-83bc-a0dce25afdc0",
   "metadata": {},
   "outputs": [
    {
     "data": {
      "text/plain": [
       "br_000    82.083333\n",
       "bq_000    81.168750\n",
       "bp_000    79.541667\n",
       "bo_000    77.245833\n",
       "ab_000    77.141667\n",
       "cr_000    77.141667\n",
       "bn_000    73.362500\n",
       "bm_000    65.968750\n",
       "bl_000    45.510417\n",
       "bk_000    38.495833\n",
       "ch_000    24.785417\n",
       "co_000    24.785417\n",
       "cg_000    24.785417\n",
       "cf_000    24.785417\n",
       "ad_000    24.785417\n",
       "ct_000    23.037500\n",
       "cu_000    23.037500\n",
       "cv_000    23.037500\n",
       "cx_000    23.037500\n",
       "cy_000    23.037500\n",
       "dtype: float64"
      ]
     },
     "execution_count": 8,
     "metadata": {},
     "output_type": "execute_result"
    }
   ],
   "source": [
    "missing_values_percentage = missing_values*100 / len(train)\n",
    "missing_values_percentage.sort_values(ascending=False)[:20]"
   ]
  },
  {
   "cell_type": "code",
   "execution_count": 9,
   "id": "5fbb9b70-a032-49f9-9e88-8c8608deef72",
   "metadata": {},
   "outputs": [
    {
     "data": {
      "text/plain": [
       "169"
      ]
     },
     "execution_count": 9,
     "metadata": {},
     "output_type": "execute_result"
    }
   ],
   "source": [
    "# Amount of columns with a missing value\n",
    "sum(missing_values != 0)"
   ]
  },
  {
   "cell_type": "markdown",
   "id": "3ac7e0dc-bb27-4aa7-a7d3-600237447626",
   "metadata": {},
   "source": [
    "Almost all columns have a missing value"
   ]
  },
  {
   "cell_type": "code",
   "execution_count": 10,
   "id": "c449965a-7598-466a-9e89-543c1fbdac27",
   "metadata": {},
   "outputs": [
    {
     "data": {
      "text/plain": [
       "47542"
      ]
     },
     "execution_count": 10,
     "metadata": {},
     "output_type": "execute_result"
    }
   ],
   "source": [
    "# Amount of rows with at least a missing value\n",
    "sum(train.isna().sum(axis=1) != 0)"
   ]
  },
  {
   "cell_type": "markdown",
   "id": "af0acbe3-0440-450b-98df-ad722698edb1",
   "metadata": {},
   "source": [
    "Apparently we will need to automate the data cleaning process due to the large amount of columns with missing values"
   ]
  },
  {
   "cell_type": "code",
   "execution_count": 11,
   "id": "0a1f99b8-4361-4950-84a7-0766cad5c72a",
   "metadata": {},
   "outputs": [],
   "source": [
    "del missing_values\n",
    "del missing_values_percentage"
   ]
  },
  {
   "cell_type": "markdown",
   "id": "b75fdcc4-7b9b-4c42-b3ff-55a363fbae92",
   "metadata": {},
   "source": [
    "# Data preparation"
   ]
  },
  {
   "cell_type": "markdown",
   "id": "4fc26b65-2b65-4955-b1f1-c56a5fba883f",
   "metadata": {},
   "source": [
    "### Data balancing (not used anymore)"
   ]
  },
  {
   "cell_type": "code",
   "execution_count": 12,
   "id": "74530cc8-1d7b-48b7-9708-69d3035a73a3",
   "metadata": {},
   "outputs": [],
   "source": [
    "# difference = len(train[train['class'] == 'neg']) - len(train[train['class'] == 'pos'])\n",
    "# neg_indices_to_drop = np.random.choice(train[train['class'] == 'neg'].index, size=difference, replace=False)\n",
    "\n",
    "# del difference"
   ]
  },
  {
   "cell_type": "code",
   "execution_count": 13,
   "id": "a1d9e8ef-f588-4ea8-a86b-e5d3ed712aa1",
   "metadata": {},
   "outputs": [],
   "source": [
    "# train = train.drop(index=neg_indices_to_drop)"
   ]
  },
  {
   "cell_type": "markdown",
   "id": "3dfc74c8-243c-4093-88fe-9c63be4f7d8e",
   "metadata": {},
   "source": [
    "### Getting the features and the target"
   ]
  },
  {
   "cell_type": "code",
   "execution_count": 14,
   "id": "b67b3aef-029b-4073-9f5d-d851f5118616",
   "metadata": {},
   "outputs": [],
   "source": [
    "X_train, y_train = train.drop(columns=['class']), train['class']"
   ]
  },
  {
   "cell_type": "markdown",
   "id": "a449c285-d0ba-47d3-b575-c55ab7b1c6c8",
   "metadata": {},
   "source": [
    "### Creating the pipeline for preparing the data and reduce dimensionality"
   ]
  },
  {
   "cell_type": "code",
   "execution_count": 15,
   "id": "f2b6ecb8-f14e-48b4-bed1-5ea6563aac65",
   "metadata": {},
   "outputs": [],
   "source": [
    "class ColumnSelection(BaseEstimator, TransformerMixin):\n",
    "    def __init__(self, columns):\n",
    "        self.columns = columns\n",
    "\n",
    "    def fit(self, X, y=None):\n",
    "        return self\n",
    "\n",
    "    def transform(self, X):\n",
    "        return X.drop(columns=self.columns)"
   ]
  },
  {
   "cell_type": "code",
   "execution_count": 16,
   "id": "ebd7b4e4-0c3e-4f86-9cf5-f9a6782c9115",
   "metadata": {},
   "outputs": [],
   "source": [
    "# Dropping any column that has more than 50% of it's values missing\n",
    "columns_to_drop = X_train.columns[X_train.isna().sum()/len(X_train) > .5]"
   ]
  },
  {
   "cell_type": "code",
   "execution_count": 17,
   "id": "b87226db-aa18-47d5-a00c-718ce18b09f4",
   "metadata": {},
   "outputs": [
    {
     "data": {
      "text/html": [
       "<style>#sk-container-id-1 {color: black;background-color: white;}#sk-container-id-1 pre{padding: 0;}#sk-container-id-1 div.sk-toggleable {background-color: white;}#sk-container-id-1 label.sk-toggleable__label {cursor: pointer;display: block;width: 100%;margin-bottom: 0;padding: 0.3em;box-sizing: border-box;text-align: center;}#sk-container-id-1 label.sk-toggleable__label-arrow:before {content: \"▸\";float: left;margin-right: 0.25em;color: #696969;}#sk-container-id-1 label.sk-toggleable__label-arrow:hover:before {color: black;}#sk-container-id-1 div.sk-estimator:hover label.sk-toggleable__label-arrow:before {color: black;}#sk-container-id-1 div.sk-toggleable__content {max-height: 0;max-width: 0;overflow: hidden;text-align: left;background-color: #f0f8ff;}#sk-container-id-1 div.sk-toggleable__content pre {margin: 0.2em;color: black;border-radius: 0.25em;background-color: #f0f8ff;}#sk-container-id-1 input.sk-toggleable__control:checked~div.sk-toggleable__content {max-height: 200px;max-width: 100%;overflow: auto;}#sk-container-id-1 input.sk-toggleable__control:checked~label.sk-toggleable__label-arrow:before {content: \"▾\";}#sk-container-id-1 div.sk-estimator input.sk-toggleable__control:checked~label.sk-toggleable__label {background-color: #d4ebff;}#sk-container-id-1 div.sk-label input.sk-toggleable__control:checked~label.sk-toggleable__label {background-color: #d4ebff;}#sk-container-id-1 input.sk-hidden--visually {border: 0;clip: rect(1px 1px 1px 1px);clip: rect(1px, 1px, 1px, 1px);height: 1px;margin: -1px;overflow: hidden;padding: 0;position: absolute;width: 1px;}#sk-container-id-1 div.sk-estimator {font-family: monospace;background-color: #f0f8ff;border: 1px dotted black;border-radius: 0.25em;box-sizing: border-box;margin-bottom: 0.5em;}#sk-container-id-1 div.sk-estimator:hover {background-color: #d4ebff;}#sk-container-id-1 div.sk-parallel-item::after {content: \"\";width: 100%;border-bottom: 1px solid gray;flex-grow: 1;}#sk-container-id-1 div.sk-label:hover label.sk-toggleable__label {background-color: #d4ebff;}#sk-container-id-1 div.sk-serial::before {content: \"\";position: absolute;border-left: 1px solid gray;box-sizing: border-box;top: 0;bottom: 0;left: 50%;z-index: 0;}#sk-container-id-1 div.sk-serial {display: flex;flex-direction: column;align-items: center;background-color: white;padding-right: 0.2em;padding-left: 0.2em;position: relative;}#sk-container-id-1 div.sk-item {position: relative;z-index: 1;}#sk-container-id-1 div.sk-parallel {display: flex;align-items: stretch;justify-content: center;background-color: white;position: relative;}#sk-container-id-1 div.sk-item::before, #sk-container-id-1 div.sk-parallel-item::before {content: \"\";position: absolute;border-left: 1px solid gray;box-sizing: border-box;top: 0;bottom: 0;left: 50%;z-index: -1;}#sk-container-id-1 div.sk-parallel-item {display: flex;flex-direction: column;z-index: 1;position: relative;background-color: white;}#sk-container-id-1 div.sk-parallel-item:first-child::after {align-self: flex-end;width: 50%;}#sk-container-id-1 div.sk-parallel-item:last-child::after {align-self: flex-start;width: 50%;}#sk-container-id-1 div.sk-parallel-item:only-child::after {width: 0;}#sk-container-id-1 div.sk-dashed-wrapped {border: 1px dashed gray;margin: 0 0.4em 0.5em 0.4em;box-sizing: border-box;padding-bottom: 0.4em;background-color: white;}#sk-container-id-1 div.sk-label label {font-family: monospace;font-weight: bold;display: inline-block;line-height: 1.2em;}#sk-container-id-1 div.sk-label-container {text-align: center;}#sk-container-id-1 div.sk-container {/* jupyter's `normalize.less` sets `[hidden] { display: none; }` but bootstrap.min.css set `[hidden] { display: none !important; }` so we also need the `!important` here to be able to override the default hidden behavior on the sphinx rendered scikit-learn.org. See: https://github.com/scikit-learn/scikit-learn/issues/21755 */display: inline-block !important;position: relative;}#sk-container-id-1 div.sk-text-repr-fallback {display: none;}</style><div id=\"sk-container-id-1\" class=\"sk-top-container\"><div class=\"sk-text-repr-fallback\"><pre>Pipeline(steps=[(&#x27;column_selector&#x27;,\n",
       "                 ColumnSelection(columns=Index([&#x27;ab_000&#x27;, &#x27;bm_000&#x27;, &#x27;bn_000&#x27;, &#x27;bo_000&#x27;, &#x27;bp_000&#x27;, &#x27;bq_000&#x27;, &#x27;br_000&#x27;,\n",
       "       &#x27;cr_000&#x27;],\n",
       "      dtype=&#x27;object&#x27;))),\n",
       "                (&#x27;median_imputer&#x27;, SimpleImputer(strategy=&#x27;median&#x27;)),\n",
       "                (&#x27;standard_scaler&#x27;, StandardScaler()),\n",
       "                (&#x27;pca&#x27;, PCA(n_components=5))])</pre><b>In a Jupyter environment, please rerun this cell to show the HTML representation or trust the notebook. <br />On GitHub, the HTML representation is unable to render, please try loading this page with nbviewer.org.</b></div><div class=\"sk-container\" hidden><div class=\"sk-item sk-dashed-wrapped\"><div class=\"sk-label-container\"><div class=\"sk-label sk-toggleable\"><input class=\"sk-toggleable__control sk-hidden--visually\" id=\"sk-estimator-id-1\" type=\"checkbox\" ><label for=\"sk-estimator-id-1\" class=\"sk-toggleable__label sk-toggleable__label-arrow\">Pipeline</label><div class=\"sk-toggleable__content\"><pre>Pipeline(steps=[(&#x27;column_selector&#x27;,\n",
       "                 ColumnSelection(columns=Index([&#x27;ab_000&#x27;, &#x27;bm_000&#x27;, &#x27;bn_000&#x27;, &#x27;bo_000&#x27;, &#x27;bp_000&#x27;, &#x27;bq_000&#x27;, &#x27;br_000&#x27;,\n",
       "       &#x27;cr_000&#x27;],\n",
       "      dtype=&#x27;object&#x27;))),\n",
       "                (&#x27;median_imputer&#x27;, SimpleImputer(strategy=&#x27;median&#x27;)),\n",
       "                (&#x27;standard_scaler&#x27;, StandardScaler()),\n",
       "                (&#x27;pca&#x27;, PCA(n_components=5))])</pre></div></div></div><div class=\"sk-serial\"><div class=\"sk-item\"><div class=\"sk-estimator sk-toggleable\"><input class=\"sk-toggleable__control sk-hidden--visually\" id=\"sk-estimator-id-2\" type=\"checkbox\" ><label for=\"sk-estimator-id-2\" class=\"sk-toggleable__label sk-toggleable__label-arrow\">ColumnSelection</label><div class=\"sk-toggleable__content\"><pre>ColumnSelection(columns=Index([&#x27;ab_000&#x27;, &#x27;bm_000&#x27;, &#x27;bn_000&#x27;, &#x27;bo_000&#x27;, &#x27;bp_000&#x27;, &#x27;bq_000&#x27;, &#x27;br_000&#x27;,\n",
       "       &#x27;cr_000&#x27;],\n",
       "      dtype=&#x27;object&#x27;))</pre></div></div></div><div class=\"sk-item\"><div class=\"sk-estimator sk-toggleable\"><input class=\"sk-toggleable__control sk-hidden--visually\" id=\"sk-estimator-id-3\" type=\"checkbox\" ><label for=\"sk-estimator-id-3\" class=\"sk-toggleable__label sk-toggleable__label-arrow\">SimpleImputer</label><div class=\"sk-toggleable__content\"><pre>SimpleImputer(strategy=&#x27;median&#x27;)</pre></div></div></div><div class=\"sk-item\"><div class=\"sk-estimator sk-toggleable\"><input class=\"sk-toggleable__control sk-hidden--visually\" id=\"sk-estimator-id-4\" type=\"checkbox\" ><label for=\"sk-estimator-id-4\" class=\"sk-toggleable__label sk-toggleable__label-arrow\">StandardScaler</label><div class=\"sk-toggleable__content\"><pre>StandardScaler()</pre></div></div></div><div class=\"sk-item\"><div class=\"sk-estimator sk-toggleable\"><input class=\"sk-toggleable__control sk-hidden--visually\" id=\"sk-estimator-id-5\" type=\"checkbox\" ><label for=\"sk-estimator-id-5\" class=\"sk-toggleable__label sk-toggleable__label-arrow\">PCA</label><div class=\"sk-toggleable__content\"><pre>PCA(n_components=5)</pre></div></div></div></div></div></div></div>"
      ],
      "text/plain": [
       "Pipeline(steps=[('column_selector',\n",
       "                 ColumnSelection(columns=Index(['ab_000', 'bm_000', 'bn_000', 'bo_000', 'bp_000', 'bq_000', 'br_000',\n",
       "       'cr_000'],\n",
       "      dtype='object'))),\n",
       "                ('median_imputer', SimpleImputer(strategy='median')),\n",
       "                ('standard_scaler', StandardScaler()),\n",
       "                ('pca', PCA(n_components=5))])"
      ]
     },
     "execution_count": 17,
     "metadata": {},
     "output_type": "execute_result"
    }
   ],
   "source": [
    "# This pipeline will clean and scale our X train data.\n",
    "transformer_pipeline = Pipeline([\n",
    "    ('column_selector', ColumnSelection(columns_to_drop)),\n",
    "    ('median_imputer', SimpleImputer(strategy='median')),\n",
    "    ('standard_scaler', StandardScaler()),\n",
    "    ('pca', PCA(n_components=5))\n",
    "])\n",
    "\n",
    "transformer_pipeline.fit(X_train)"
   ]
  },
  {
   "cell_type": "code",
   "execution_count": 18,
   "id": "de93e08e-7241-4f7e-a7c3-05fa1f238c6c",
   "metadata": {},
   "outputs": [],
   "source": [
    "def preprocess_data(x, y, transformer_pipeline):\n",
    "    '''Function that preprocess the features and the label data to automate the process'''\n",
    "    x_preprocessed = transformer_pipeline.transform(x)\n",
    "    y_preprocessed = np.where(y == 'neg', 0, 1)\n",
    "\n",
    "    return x_preprocessed, y_preprocessed"
   ]
  },
  {
   "cell_type": "code",
   "execution_count": 19,
   "id": "9c404b3a-1590-4ec2-ada5-08c2b1596637",
   "metadata": {},
   "outputs": [],
   "source": [
    "# The name of remaining columns. (Necessary because x_preprocessed is a numpy array, i.e doesnt't have column names)\n",
    "left_columns = X_train.drop(columns=columns_to_drop).columns"
   ]
  },
  {
   "cell_type": "code",
   "execution_count": 20,
   "id": "85ad93d3-5ccd-4efe-bf16-760afa4a1674",
   "metadata": {},
   "outputs": [],
   "source": [
    "X_train_components, y_train = preprocess_data(X_train, y_train, transformer_pipeline)"
   ]
  },
  {
   "cell_type": "code",
   "execution_count": 21,
   "id": "2b92eaf0-705d-436a-8592-2d2834507d9e",
   "metadata": {},
   "outputs": [
    {
     "data": {
      "text/plain": [
       "array([[-2.89934294,  0.27693126,  0.36502963,  0.15597178,  0.08646449],\n",
       "       [-0.66410238, -0.26074517, -0.19715251, -0.04442777,  0.11206181],\n",
       "       [-0.6704724 , -0.24333679, -0.20891443, -0.09285143,  0.08812489],\n",
       "       [-0.54495388, -0.10602949, -0.54594847, -0.27603585,  0.11263709],\n",
       "       [-2.98518837,  0.30115697,  0.61540368,  0.34146   , -0.2016066 ]])"
      ]
     },
     "execution_count": 21,
     "metadata": {},
     "output_type": "execute_result"
    }
   ],
   "source": [
    "X_train_components[:5, :5]"
   ]
  },
  {
   "cell_type": "markdown",
   "id": "314d30dc-dcaa-4d68-b480-1b8140f193c0",
   "metadata": {},
   "source": [
    "Our train data features are already cleaned and scaled. The next step is to apply a dimensionality reduction algorithm so we can work with less columns and extract the feature importances."
   ]
  },
  {
   "cell_type": "markdown",
   "id": "741c677b-afbd-479d-87fa-388494df4c9f",
   "metadata": {},
   "source": [
    "## Analysis of the components"
   ]
  },
  {
   "cell_type": "code",
   "execution_count": 22,
   "id": "c2a4d3b6-fd87-47a3-901f-d1134a978e46",
   "metadata": {},
   "outputs": [
    {
     "data": {
      "text/plain": [
       "array([[-2.89934294,  0.27693126,  0.36502963,  0.15597178,  0.08646449],\n",
       "       [-0.66410238, -0.26074517, -0.19715251, -0.04442777,  0.11206181],\n",
       "       [-0.6704724 , -0.24333679, -0.20891443, -0.09285143,  0.08812489],\n",
       "       ...,\n",
       "       [-3.19338784,  0.19095258,  0.80556297,  0.29271765, -0.17223606],\n",
       "       [-2.22598697,  0.3216673 ,  0.58662751,  0.26080717, -0.24767366],\n",
       "       [ 6.2301697 , -1.06808842, -2.65110917, -2.09990019,  2.54770775]])"
      ]
     },
     "execution_count": 22,
     "metadata": {},
     "output_type": "execute_result"
    }
   ],
   "source": [
    "X_train_components"
   ]
  },
  {
   "cell_type": "code",
   "execution_count": 23,
   "id": "69c02a2c-62be-4530-b352-95a1f946d249",
   "metadata": {},
   "outputs": [
    {
     "data": {
      "text/plain": [
       "(48000, 5)"
      ]
     },
     "execution_count": 23,
     "metadata": {},
     "output_type": "execute_result"
    }
   ],
   "source": [
    "X_train_components.shape"
   ]
  },
  {
   "cell_type": "code",
   "execution_count": 24,
   "id": "5d4d7753-508e-431b-bcc5-406cab5c1d30",
   "metadata": {},
   "outputs": [
    {
     "data": {
      "text/plain": [
       "array([48.5455996 ,  7.88728396,  6.23680009,  5.08078673,  4.09966927])"
      ]
     },
     "execution_count": 24,
     "metadata": {},
     "output_type": "execute_result"
    }
   ],
   "source": [
    "pca = transformer_pipeline.named_steps['pca']\n",
    "pca.explained_variance_"
   ]
  },
  {
   "cell_type": "code",
   "execution_count": 25,
   "id": "f1a44902-840f-4d45-9167-06f7a7532d82",
   "metadata": {},
   "outputs": [],
   "source": [
    "most_important_index = [np.abs(pca.components_[i]).argmax() for i in range(pca.n_components_)]"
   ]
  },
  {
   "cell_type": "code",
   "execution_count": 26,
   "id": "9b30f013-8948-4d0d-ae80-f1a8d6088881",
   "metadata": {},
   "outputs": [
    {
     "data": {
      "text/plain": [
       "Index(['bx_000', 'ag_003', 'dt_000', 'ag_008', 'bj_000'], dtype='object')"
      ]
     },
     "execution_count": 26,
     "metadata": {},
     "output_type": "execute_result"
    }
   ],
   "source": [
    "most_important_columns = left_columns[most_important_index]\n",
    "most_important_columns"
   ]
  },
  {
   "cell_type": "code",
   "execution_count": 27,
   "id": "8c8bdcc6-32ad-4073-9542-2954cee7d26f",
   "metadata": {},
   "outputs": [
    {
     "name": "stdout",
     "output_type": "stream",
     "text": [
      "bx_000: 0.13493620616696544\n",
      "ag_003: 0.19511218679921177\n",
      "dt_000: -0.22147344544857578\n",
      "ag_008: 0.27197989685044477\n",
      "bj_000: -0.2335348491963064\n"
     ]
    }
   ],
   "source": [
    "for i in range(pca.n_components_):\n",
    "    print(f\"{most_important_columns[i]}: {pca.components_[i][most_important_index[i]]}\")"
   ]
  },
  {
   "cell_type": "markdown",
   "id": "da953b4a-94f0-4326-ace1-8a9f442de9d1",
   "metadata": {},
   "source": [
    "These are the most influent features for each principal component.\n",
    "\n",
    "The first component explains almost 50% of the variation on the dataset, the second component explains 8% and so on."
   ]
  },
  {
   "cell_type": "markdown",
   "id": "07c8b43d-145d-495a-93ec-99c2be4a7b7c",
   "metadata": {},
   "source": [
    "## Machine Learning model building using Classification Algorithm"
   ]
  },
  {
   "cell_type": "code",
   "execution_count": 28,
   "id": "72895991-f9a6-432a-a217-a93896f03016",
   "metadata": {},
   "outputs": [],
   "source": [
    "def evaluate_model(model, x=X_train_components, y=y_train):\n",
    "    for i in ['recall', 'precision', 'accuracy']:\n",
    "        skf = StratifiedKFold(n_splits=5)\n",
    "        scores = cross_val_score(model, x, y, cv=skf, scoring=i)\n",
    "        mean = scores.mean()\n",
    "        std = scores.std()\n",
    "        print(\"METRIC: {}\\nSCORES: {}\\nMEAN: {:.4f}\\nSTD: {:.4f}\\n\".format(i, scores, mean, std))"
   ]
  },
  {
   "cell_type": "code",
   "execution_count": 29,
   "id": "d3ea7184-5fc6-42e1-8326-4fc863f0d0c9",
   "metadata": {},
   "outputs": [],
   "source": [
    "def plot_roc_curve(models_dict, x=X_train_components, y=y_train):\n",
    "    for model_name in models_dict:\n",
    "        y_scores = cross_val_predict(models_dict[model_name], X_train_components, y_train, method='predict_proba')[:, 1]\n",
    "        fpr, tpr, thresholds = roc_curve(y_train, y_scores)\n",
    "        plt.plot(fpr, tpr, label=model_name)\n",
    "\n",
    "    plt.plot(fpr, fpr, label=\"random\")\n",
    "\n",
    "    plt.xlabel(\"False Positive Rate\")\n",
    "    plt.ylabel(\"True Positive Rate (recall)\")\n",
    "    plt.legend()\n",
    "    plt.show()"
   ]
  },
  {
   "cell_type": "code",
   "execution_count": 30,
   "id": "fc548f2d-6108-4668-aca2-e980a1bf5c05",
   "metadata": {},
   "outputs": [],
   "source": [
    "# Benchmark Classifiers\n",
    "dt_benchmark = DecisionTreeClassifier()\n",
    "rf_benchmark = RandomForestClassifier()\n",
    "log_benchmark = LogisticRegression()"
   ]
  },
  {
   "cell_type": "code",
   "execution_count": 31,
   "id": "aee6d377-15b8-4113-9f5a-9fa47d6b47cb",
   "metadata": {},
   "outputs": [
    {
     "name": "stdout",
     "output_type": "stream",
     "text": [
      "METRIC: recall\n",
      "SCORES: [0.58441558 0.55844156 0.5        0.56493506 0.51948052]\n",
      "MEAN: 0.5455\n",
      "STD: 0.0310\n",
      "\n",
      "METRIC: precision\n",
      "SCORES: [0.58333333 0.51204819 0.46625767 0.50632911 0.5483871 ]\n",
      "MEAN: 0.5233\n",
      "STD: 0.0398\n",
      "\n",
      "METRIC: accuracy\n",
      "SCORES: [0.98760417 0.98416667 0.98322917 0.98427083 0.98458333]\n",
      "MEAN: 0.9848\n",
      "STD: 0.0015\n",
      "\n"
     ]
    }
   ],
   "source": [
    "evaluate_model(dt_benchmark, X_train_components, y_train)"
   ]
  },
  {
   "cell_type": "code",
   "execution_count": 32,
   "id": "bcac5ba9-c72a-41ff-9967-09e1aa001929",
   "metadata": {},
   "outputs": [
    {
     "name": "stdout",
     "output_type": "stream",
     "text": [
      "METRIC: recall\n",
      "SCORES: [0.25974026 0.22727273 0.19480519 0.30519481 0.23376623]\n",
      "MEAN: 0.2442\n",
      "STD: 0.0369\n",
      "\n",
      "METRIC: precision\n",
      "SCORES: [0.49382716 0.50724638 0.40540541 0.55294118 0.57142857]\n",
      "MEAN: 0.5062\n",
      "STD: 0.0579\n",
      "\n",
      "METRIC: accuracy\n",
      "SCORES: [0.98385417 0.9840625  0.9825     0.98489583 0.98489583]\n",
      "MEAN: 0.9840\n",
      "STD: 0.0009\n",
      "\n"
     ]
    }
   ],
   "source": [
    "evaluate_model(log_benchmark)"
   ]
  },
  {
   "cell_type": "code",
   "execution_count": 33,
   "id": "e05883be-0d01-4a1b-8c00-1e8bb7a9b4ee",
   "metadata": {},
   "outputs": [
    {
     "name": "stdout",
     "output_type": "stream",
     "text": [
      "METRIC: recall\n",
      "SCORES: [0.53246753 0.56493506 0.42857143 0.47402597 0.52597403]\n",
      "MEAN: 0.5052\n",
      "STD: 0.0481\n",
      "\n",
      "METRIC: precision\n",
      "SCORES: [0.81443299 0.70434783 0.68041237 0.7037037  0.82474227]\n",
      "MEAN: 0.7455\n",
      "STD: 0.0612\n",
      "\n",
      "METRIC: accuracy\n",
      "SCORES: [0.9903125  0.98875    0.9878125  0.98833333 0.990625  ]\n",
      "MEAN: 0.9892\n",
      "STD: 0.0011\n",
      "\n"
     ]
    }
   ],
   "source": [
    "evaluate_model(rf_benchmark)"
   ]
  },
  {
   "cell_type": "code",
   "execution_count": 34,
   "id": "96983353-db00-4498-a233-a1ab71ff68c8",
   "metadata": {},
   "outputs": [
    {
     "data": {
      "image/png": "[encoded data removed]",
      "text/plain": [
       "<Figure size 640x480 with 1 Axes>"
      ]
     },
     "metadata": {},
     "output_type": "display_data"
    }
   ],
   "source": [
    "models_dict = {\n",
    "    \"DecisionTree\": dt_benchmark,\n",
    "    \"LogisticRegression\": log_benchmark,\n",
    "    \"RandomForest\": rf_benchmark,\n",
    "}\n",
    "plot_roc_curve(models_dict)"
   ]
  },
  {
   "cell_type": "markdown",
   "id": "028b6766-3dbe-47cb-80ff-58ff1a4c732a",
   "metadata": {},
   "source": [
    "Here we can see that RandomForest and LogisticRegression have the higher AUC. That means that if we want to raise the recall of our model, the fall rate of precision is low."
   ]
  },
  {
   "cell_type": "code",
   "execution_count": 35,
   "id": "5b3315e4-daef-4995-9c13-8cda888ed453",
   "metadata": {},
   "outputs": [
    {
     "name": "stdout",
     "output_type": "stream",
     "text": [
      "==============\n",
      "DecisionTree\n",
      "AUC: 0.7636\n",
      "\n",
      "==============\n",
      "LogisticRegression\n",
      "AUC: 0.9747\n",
      "\n",
      "==============\n",
      "RandomForest\n",
      "AUC: 0.9710\n",
      "\n"
     ]
    }
   ],
   "source": [
    "for model_name in models_dict:\n",
    "    y_score = cross_val_predict(models_dict[model_name], X_train_components, y_train, method='predict_proba')[:, 1]\n",
    "    auc = roc_auc_score(y_train, y_score)\n",
    "    print(\"==============\")\n",
    "    print(\"{}\\nAUC: {:.4f}\\n\".format(model_name, auc))"
   ]
  },
  {
   "cell_type": "markdown",
   "id": "6eab7c88-330f-4818-a2a6-a016ec2fb0ff",
   "metadata": {},
   "source": [
    "## Hyperparameter Optimization"
   ]
  },
  {
   "cell_type": "markdown",
   "id": "908fe3fa-d121-45bb-8cf4-58a886dbcf41",
   "metadata": {},
   "source": [
    "The model chosen to be tunned was the DecisionTreeClassifier due to his recall score close to the RandomForest and it's way less complexity and has a better hardware performance."
   ]
  },
  {
   "cell_type": "code",
   "execution_count": 36,
   "id": "b6ed5668-0d4d-4c19-8046-c0c92864fe93",
   "metadata": {},
   "outputs": [],
   "source": [
    "# rf_v1 = RandomForestClassifier(random_state=42)\n",
    "dt_v1 = DecisionTreeClassifier(random_state=42)"
   ]
  },
  {
   "cell_type": "code",
   "execution_count": 37,
   "id": "acfa3609-1e6a-48a9-9f1b-cdf1ea86a707",
   "metadata": {},
   "outputs": [],
   "source": [
    "param_grid = {\n",
    "    # \"n_estimators\": [50, 100],\n",
    "    \"criterion\": [\"gini\", \"entropy\", \"log_loss\"],\n",
    "    \"max_depth\": [20, 50, 150, None],\n",
    "    \"min_samples_split\": [2, 5, 10],\n",
    "    \"min_samples_leaf\": [1, 4, 10],\n",
    "    'class_weight': ['balanced']\n",
    "}"
   ]
  },
  {
   "cell_type": "code",
   "execution_count": 38,
   "id": "a0c144e1-3bdf-44b5-b281-b871cc898adf",
   "metadata": {},
   "outputs": [
    {
     "data": {
      "text/html": [
       "<style>#sk-container-id-2 {color: black;background-color: white;}#sk-container-id-2 pre{padding: 0;}#sk-container-id-2 div.sk-toggleable {background-color: white;}#sk-container-id-2 label.sk-toggleable__label {cursor: pointer;display: block;width: 100%;margin-bottom: 0;padding: 0.3em;box-sizing: border-box;text-align: center;}#sk-container-id-2 label.sk-toggleable__label-arrow:before {content: \"▸\";float: left;margin-right: 0.25em;color: #696969;}#sk-container-id-2 label.sk-toggleable__label-arrow:hover:before {color: black;}#sk-container-id-2 div.sk-estimator:hover label.sk-toggleable__label-arrow:before {color: black;}#sk-container-id-2 div.sk-toggleable__content {max-height: 0;max-width: 0;overflow: hidden;text-align: left;background-color: #f0f8ff;}#sk-container-id-2 div.sk-toggleable__content pre {margin: 0.2em;color: black;border-radius: 0.25em;background-color: #f0f8ff;}#sk-container-id-2 input.sk-toggleable__control:checked~div.sk-toggleable__content {max-height: 200px;max-width: 100%;overflow: auto;}#sk-container-id-2 input.sk-toggleable__control:checked~label.sk-toggleable__label-arrow:before {content: \"▾\";}#sk-container-id-2 div.sk-estimator input.sk-toggleable__control:checked~label.sk-toggleable__label {background-color: #d4ebff;}#sk-container-id-2 div.sk-label input.sk-toggleable__control:checked~label.sk-toggleable__label {background-color: #d4ebff;}#sk-container-id-2 input.sk-hidden--visually {border: 0;clip: rect(1px 1px 1px 1px);clip: rect(1px, 1px, 1px, 1px);height: 1px;margin: -1px;overflow: hidden;padding: 0;position: absolute;width: 1px;}#sk-container-id-2 div.sk-estimator {font-family: monospace;background-color: #f0f8ff;border: 1px dotted black;border-radius: 0.25em;box-sizing: border-box;margin-bottom: 0.5em;}#sk-container-id-2 div.sk-estimator:hover {background-color: #d4ebff;}#sk-container-id-2 div.sk-parallel-item::after {content: \"\";width: 100%;border-bottom: 1px solid gray;flex-grow: 1;}#sk-container-id-2 div.sk-label:hover label.sk-toggleable__label {background-color: #d4ebff;}#sk-container-id-2 div.sk-serial::before {content: \"\";position: absolute;border-left: 1px solid gray;box-sizing: border-box;top: 0;bottom: 0;left: 50%;z-index: 0;}#sk-container-id-2 div.sk-serial {display: flex;flex-direction: column;align-items: center;background-color: white;padding-right: 0.2em;padding-left: 0.2em;position: relative;}#sk-container-id-2 div.sk-item {position: relative;z-index: 1;}#sk-container-id-2 div.sk-parallel {display: flex;align-items: stretch;justify-content: center;background-color: white;position: relative;}#sk-container-id-2 div.sk-item::before, #sk-container-id-2 div.sk-parallel-item::before {content: \"\";position: absolute;border-left: 1px solid gray;box-sizing: border-box;top: 0;bottom: 0;left: 50%;z-index: -1;}#sk-container-id-2 div.sk-parallel-item {display: flex;flex-direction: column;z-index: 1;position: relative;background-color: white;}#sk-container-id-2 div.sk-parallel-item:first-child::after {align-self: flex-end;width: 50%;}#sk-container-id-2 div.sk-parallel-item:last-child::after {align-self: flex-start;width: 50%;}#sk-container-id-2 div.sk-parallel-item:only-child::after {width: 0;}#sk-container-id-2 div.sk-dashed-wrapped {border: 1px dashed gray;margin: 0 0.4em 0.5em 0.4em;box-sizing: border-box;padding-bottom: 0.4em;background-color: white;}#sk-container-id-2 div.sk-label label {font-family: monospace;font-weight: bold;display: inline-block;line-height: 1.2em;}#sk-container-id-2 div.sk-label-container {text-align: center;}#sk-container-id-2 div.sk-container {/* jupyter's `normalize.less` sets `[hidden] { display: none; }` but bootstrap.min.css set `[hidden] { display: none !important; }` so we also need the `!important` here to be able to override the default hidden behavior on the sphinx rendered scikit-learn.org. See: https://github.com/scikit-learn/scikit-learn/issues/21755 */display: inline-block !important;position: relative;}#sk-container-id-2 div.sk-text-repr-fallback {display: none;}</style><div id=\"sk-container-id-2\" class=\"sk-top-container\"><div class=\"sk-text-repr-fallback\"><pre>RandomizedSearchCV(estimator=DecisionTreeClassifier(random_state=42),\n",
       "                   param_distributions={&#x27;class_weight&#x27;: [&#x27;balanced&#x27;],\n",
       "                                        &#x27;criterion&#x27;: [&#x27;gini&#x27;, &#x27;entropy&#x27;,\n",
       "                                                      &#x27;log_loss&#x27;],\n",
       "                                        &#x27;max_depth&#x27;: [20, 50, 150, None],\n",
       "                                        &#x27;min_samples_leaf&#x27;: [1, 4, 10],\n",
       "                                        &#x27;min_samples_split&#x27;: [2, 5, 10]},\n",
       "                   scoring=&#x27;recall&#x27;)</pre><b>In a Jupyter environment, please rerun this cell to show the HTML representation or trust the notebook. <br />On GitHub, the HTML representation is unable to render, please try loading this page with nbviewer.org.</b></div><div class=\"sk-container\" hidden><div class=\"sk-item sk-dashed-wrapped\"><div class=\"sk-label-container\"><div class=\"sk-label sk-toggleable\"><input class=\"sk-toggleable__control sk-hidden--visually\" id=\"sk-estimator-id-6\" type=\"checkbox\" ><label for=\"sk-estimator-id-6\" class=\"sk-toggleable__label sk-toggleable__label-arrow\">RandomizedSearchCV</label><div class=\"sk-toggleable__content\"><pre>RandomizedSearchCV(estimator=DecisionTreeClassifier(random_state=42),\n",
       "                   param_distributions={&#x27;class_weight&#x27;: [&#x27;balanced&#x27;],\n",
       "                                        &#x27;criterion&#x27;: [&#x27;gini&#x27;, &#x27;entropy&#x27;,\n",
       "                                                      &#x27;log_loss&#x27;],\n",
       "                                        &#x27;max_depth&#x27;: [20, 50, 150, None],\n",
       "                                        &#x27;min_samples_leaf&#x27;: [1, 4, 10],\n",
       "                                        &#x27;min_samples_split&#x27;: [2, 5, 10]},\n",
       "                   scoring=&#x27;recall&#x27;)</pre></div></div></div><div class=\"sk-parallel\"><div class=\"sk-parallel-item\"><div class=\"sk-item\"><div class=\"sk-label-container\"><div class=\"sk-label sk-toggleable\"><input class=\"sk-toggleable__control sk-hidden--visually\" id=\"sk-estimator-id-7\" type=\"checkbox\" ><label for=\"sk-estimator-id-7\" class=\"sk-toggleable__label sk-toggleable__label-arrow\">estimator: DecisionTreeClassifier</label><div class=\"sk-toggleable__content\"><pre>DecisionTreeClassifier(random_state=42)</pre></div></div></div><div class=\"sk-serial\"><div class=\"sk-item\"><div class=\"sk-estimator sk-toggleable\"><input class=\"sk-toggleable__control sk-hidden--visually\" id=\"sk-estimator-id-8\" type=\"checkbox\" ><label for=\"sk-estimator-id-8\" class=\"sk-toggleable__label sk-toggleable__label-arrow\">DecisionTreeClassifier</label><div class=\"sk-toggleable__content\"><pre>DecisionTreeClassifier(random_state=42)</pre></div></div></div></div></div></div></div></div></div></div>"
      ],
      "text/plain": [
       "RandomizedSearchCV(estimator=DecisionTreeClassifier(random_state=42),\n",
       "                   param_distributions={'class_weight': ['balanced'],\n",
       "                                        'criterion': ['gini', 'entropy',\n",
       "                                                      'log_loss'],\n",
       "                                        'max_depth': [20, 50, 150, None],\n",
       "                                        'min_samples_leaf': [1, 4, 10],\n",
       "                                        'min_samples_split': [2, 5, 10]},\n",
       "                   scoring='recall')"
      ]
     },
     "execution_count": 38,
     "metadata": {},
     "output_type": "execute_result"
    }
   ],
   "source": [
    "random_search = RandomizedSearchCV(dt_v1, param_grid, scoring=\"recall\")\n",
    "random_search.fit(X_train_components, y_train)"
   ]
  },
  {
   "cell_type": "code",
   "execution_count": 39,
   "id": "1c4ff23d-9f5d-4012-b41e-9d7ff8b76834",
   "metadata": {},
   "outputs": [
    {
     "data": {
      "text/plain": [
       "0.7974025974025973"
      ]
     },
     "execution_count": 39,
     "metadata": {},
     "output_type": "execute_result"
    }
   ],
   "source": [
    "random_search.best_score_"
   ]
  },
  {
   "cell_type": "code",
   "execution_count": 40,
   "id": "bb0a79c1-f1f1-4170-997a-b6610ccbbe01",
   "metadata": {},
   "outputs": [
    {
     "data": {
      "text/plain": [
       "{'min_samples_split': 5,\n",
       " 'min_samples_leaf': 10,\n",
       " 'max_depth': None,\n",
       " 'criterion': 'log_loss',\n",
       " 'class_weight': 'balanced'}"
      ]
     },
     "execution_count": 40,
     "metadata": {},
     "output_type": "execute_result"
    }
   ],
   "source": [
    "random_search.best_params_"
   ]
  },
  {
   "cell_type": "code",
   "execution_count": 41,
   "id": "bf827e8a-6b0f-4247-af07-77a6859cd1e5",
   "metadata": {},
   "outputs": [
    {
     "data": {
      "text/html": [
       "<style>#sk-container-id-3 {color: black;background-color: white;}#sk-container-id-3 pre{padding: 0;}#sk-container-id-3 div.sk-toggleable {background-color: white;}#sk-container-id-3 label.sk-toggleable__label {cursor: pointer;display: block;width: 100%;margin-bottom: 0;padding: 0.3em;box-sizing: border-box;text-align: center;}#sk-container-id-3 label.sk-toggleable__label-arrow:before {content: \"▸\";float: left;margin-right: 0.25em;color: #696969;}#sk-container-id-3 label.sk-toggleable__label-arrow:hover:before {color: black;}#sk-container-id-3 div.sk-estimator:hover label.sk-toggleable__label-arrow:before {color: black;}#sk-container-id-3 div.sk-toggleable__content {max-height: 0;max-width: 0;overflow: hidden;text-align: left;background-color: #f0f8ff;}#sk-container-id-3 div.sk-toggleable__content pre {margin: 0.2em;color: black;border-radius: 0.25em;background-color: #f0f8ff;}#sk-container-id-3 input.sk-toggleable__control:checked~div.sk-toggleable__content {max-height: 200px;max-width: 100%;overflow: auto;}#sk-container-id-3 input.sk-toggleable__control:checked~label.sk-toggleable__label-arrow:before {content: \"▾\";}#sk-container-id-3 div.sk-estimator input.sk-toggleable__control:checked~label.sk-toggleable__label {background-color: #d4ebff;}#sk-container-id-3 div.sk-label input.sk-toggleable__control:checked~label.sk-toggleable__label {background-color: #d4ebff;}#sk-container-id-3 input.sk-hidden--visually {border: 0;clip: rect(1px 1px 1px 1px);clip: rect(1px, 1px, 1px, 1px);height: 1px;margin: -1px;overflow: hidden;padding: 0;position: absolute;width: 1px;}#sk-container-id-3 div.sk-estimator {font-family: monospace;background-color: #f0f8ff;border: 1px dotted black;border-radius: 0.25em;box-sizing: border-box;margin-bottom: 0.5em;}#sk-container-id-3 div.sk-estimator:hover {background-color: #d4ebff;}#sk-container-id-3 div.sk-parallel-item::after {content: \"\";width: 100%;border-bottom: 1px solid gray;flex-grow: 1;}#sk-container-id-3 div.sk-label:hover label.sk-toggleable__label {background-color: #d4ebff;}#sk-container-id-3 div.sk-serial::before {content: \"\";position: absolute;border-left: 1px solid gray;box-sizing: border-box;top: 0;bottom: 0;left: 50%;z-index: 0;}#sk-container-id-3 div.sk-serial {display: flex;flex-direction: column;align-items: center;background-color: white;padding-right: 0.2em;padding-left: 0.2em;position: relative;}#sk-container-id-3 div.sk-item {position: relative;z-index: 1;}#sk-container-id-3 div.sk-parallel {display: flex;align-items: stretch;justify-content: center;background-color: white;position: relative;}#sk-container-id-3 div.sk-item::before, #sk-container-id-3 div.sk-parallel-item::before {content: \"\";position: absolute;border-left: 1px solid gray;box-sizing: border-box;top: 0;bottom: 0;left: 50%;z-index: -1;}#sk-container-id-3 div.sk-parallel-item {display: flex;flex-direction: column;z-index: 1;position: relative;background-color: white;}#sk-container-id-3 div.sk-parallel-item:first-child::after {align-self: flex-end;width: 50%;}#sk-container-id-3 div.sk-parallel-item:last-child::after {align-self: flex-start;width: 50%;}#sk-container-id-3 div.sk-parallel-item:only-child::after {width: 0;}#sk-container-id-3 div.sk-dashed-wrapped {border: 1px dashed gray;margin: 0 0.4em 0.5em 0.4em;box-sizing: border-box;padding-bottom: 0.4em;background-color: white;}#sk-container-id-3 div.sk-label label {font-family: monospace;font-weight: bold;display: inline-block;line-height: 1.2em;}#sk-container-id-3 div.sk-label-container {text-align: center;}#sk-container-id-3 div.sk-container {/* jupyter's `normalize.less` sets `[hidden] { display: none; }` but bootstrap.min.css set `[hidden] { display: none !important; }` so we also need the `!important` here to be able to override the default hidden behavior on the sphinx rendered scikit-learn.org. See: https://github.com/scikit-learn/scikit-learn/issues/21755 */display: inline-block !important;position: relative;}#sk-container-id-3 div.sk-text-repr-fallback {display: none;}</style><div id=\"sk-container-id-3\" class=\"sk-top-container\"><div class=\"sk-text-repr-fallback\"><pre>GridSearchCV(estimator=DecisionTreeClassifier(random_state=42),\n",
       "             param_grid={&#x27;class_weight&#x27;: [&#x27;balanced&#x27;],\n",
       "                         &#x27;criterion&#x27;: [&#x27;gini&#x27;, &#x27;entropy&#x27;, &#x27;log_loss&#x27;],\n",
       "                         &#x27;max_depth&#x27;: [20, 50, 150, None],\n",
       "                         &#x27;min_samples_leaf&#x27;: [1, 4, 10],\n",
       "                         &#x27;min_samples_split&#x27;: [2, 5, 10]},\n",
       "             scoring=&#x27;recall&#x27;)</pre><b>In a Jupyter environment, please rerun this cell to show the HTML representation or trust the notebook. <br />On GitHub, the HTML representation is unable to render, please try loading this page with nbviewer.org.</b></div><div class=\"sk-container\" hidden><div class=\"sk-item sk-dashed-wrapped\"><div class=\"sk-label-container\"><div class=\"sk-label sk-toggleable\"><input class=\"sk-toggleable__control sk-hidden--visually\" id=\"sk-estimator-id-9\" type=\"checkbox\" ><label for=\"sk-estimator-id-9\" class=\"sk-toggleable__label sk-toggleable__label-arrow\">GridSearchCV</label><div class=\"sk-toggleable__content\"><pre>GridSearchCV(estimator=DecisionTreeClassifier(random_state=42),\n",
       "             param_grid={&#x27;class_weight&#x27;: [&#x27;balanced&#x27;],\n",
       "                         &#x27;criterion&#x27;: [&#x27;gini&#x27;, &#x27;entropy&#x27;, &#x27;log_loss&#x27;],\n",
       "                         &#x27;max_depth&#x27;: [20, 50, 150, None],\n",
       "                         &#x27;min_samples_leaf&#x27;: [1, 4, 10],\n",
       "                         &#x27;min_samples_split&#x27;: [2, 5, 10]},\n",
       "             scoring=&#x27;recall&#x27;)</pre></div></div></div><div class=\"sk-parallel\"><div class=\"sk-parallel-item\"><div class=\"sk-item\"><div class=\"sk-label-container\"><div class=\"sk-label sk-toggleable\"><input class=\"sk-toggleable__control sk-hidden--visually\" id=\"sk-estimator-id-10\" type=\"checkbox\" ><label for=\"sk-estimator-id-10\" class=\"sk-toggleable__label sk-toggleable__label-arrow\">estimator: DecisionTreeClassifier</label><div class=\"sk-toggleable__content\"><pre>DecisionTreeClassifier(random_state=42)</pre></div></div></div><div class=\"sk-serial\"><div class=\"sk-item\"><div class=\"sk-estimator sk-toggleable\"><input class=\"sk-toggleable__control sk-hidden--visually\" id=\"sk-estimator-id-11\" type=\"checkbox\" ><label for=\"sk-estimator-id-11\" class=\"sk-toggleable__label sk-toggleable__label-arrow\">DecisionTreeClassifier</label><div class=\"sk-toggleable__content\"><pre>DecisionTreeClassifier(random_state=42)</pre></div></div></div></div></div></div></div></div></div></div>"
      ],
      "text/plain": [
       "GridSearchCV(estimator=DecisionTreeClassifier(random_state=42),\n",
       "             param_grid={'class_weight': ['balanced'],\n",
       "                         'criterion': ['gini', 'entropy', 'log_loss'],\n",
       "                         'max_depth': [20, 50, 150, None],\n",
       "                         'min_samples_leaf': [1, 4, 10],\n",
       "                         'min_samples_split': [2, 5, 10]},\n",
       "             scoring='recall')"
      ]
     },
     "execution_count": 41,
     "metadata": {},
     "output_type": "execute_result"
    }
   ],
   "source": [
    "grid_search = GridSearchCV(dt_v1, param_grid, scoring=\"recall\")\n",
    "grid_search.fit(X_train_components, y_train)"
   ]
  },
  {
   "cell_type": "code",
   "execution_count": 42,
   "id": "74622cd1-3ecd-4db6-8ecf-f1ea44e40b24",
   "metadata": {},
   "outputs": [
    {
     "data": {
      "text/plain": [
       "0.7974025974025973"
      ]
     },
     "execution_count": 42,
     "metadata": {},
     "output_type": "execute_result"
    }
   ],
   "source": [
    "grid_search.best_score_"
   ]
  },
  {
   "cell_type": "code",
   "execution_count": 43,
   "id": "53049a94-069c-41a1-be9b-6096a94ae030",
   "metadata": {},
   "outputs": [
    {
     "data": {
      "text/plain": [
       "{'class_weight': 'balanced',\n",
       " 'criterion': 'entropy',\n",
       " 'max_depth': 20,\n",
       " 'min_samples_leaf': 10,\n",
       " 'min_samples_split': 2}"
      ]
     },
     "execution_count": 43,
     "metadata": {},
     "output_type": "execute_result"
    }
   ],
   "source": [
    "grid_search.best_params_"
   ]
  },
  {
   "cell_type": "code",
   "execution_count": 44,
   "id": "1fdd21b1-e9e8-4e37-b2c2-f4f7c111ffb2",
   "metadata": {},
   "outputs": [],
   "source": [
    "param_grid_2 = {\n",
    "    # \"n_estimators\": [20, 50, 70],\n",
    "    \"max_depth\": [5, 10, 20, None],\n",
    "    \"min_samples_split\": [2, 5, 10],\n",
    "    \"min_samples_leaf\": [2, 4, 10],\n",
    "    'class_weight': ['balanced']\n",
    "}"
   ]
  },
  {
   "cell_type": "code",
   "execution_count": 45,
   "id": "4f66466f-3a57-4911-bcd6-e5a94028efa1",
   "metadata": {},
   "outputs": [
    {
     "data": {
      "text/html": [
       "<style>#sk-container-id-4 {color: black;background-color: white;}#sk-container-id-4 pre{padding: 0;}#sk-container-id-4 div.sk-toggleable {background-color: white;}#sk-container-id-4 label.sk-toggleable__label {cursor: pointer;display: block;width: 100%;margin-bottom: 0;padding: 0.3em;box-sizing: border-box;text-align: center;}#sk-container-id-4 label.sk-toggleable__label-arrow:before {content: \"▸\";float: left;margin-right: 0.25em;color: #696969;}#sk-container-id-4 label.sk-toggleable__label-arrow:hover:before {color: black;}#sk-container-id-4 div.sk-estimator:hover label.sk-toggleable__label-arrow:before {color: black;}#sk-container-id-4 div.sk-toggleable__content {max-height: 0;max-width: 0;overflow: hidden;text-align: left;background-color: #f0f8ff;}#sk-container-id-4 div.sk-toggleable__content pre {margin: 0.2em;color: black;border-radius: 0.25em;background-color: #f0f8ff;}#sk-container-id-4 input.sk-toggleable__control:checked~div.sk-toggleable__content {max-height: 200px;max-width: 100%;overflow: auto;}#sk-container-id-4 input.sk-toggleable__control:checked~label.sk-toggleable__label-arrow:before {content: \"▾\";}#sk-container-id-4 div.sk-estimator input.sk-toggleable__control:checked~label.sk-toggleable__label {background-color: #d4ebff;}#sk-container-id-4 div.sk-label input.sk-toggleable__control:checked~label.sk-toggleable__label {background-color: #d4ebff;}#sk-container-id-4 input.sk-hidden--visually {border: 0;clip: rect(1px 1px 1px 1px);clip: rect(1px, 1px, 1px, 1px);height: 1px;margin: -1px;overflow: hidden;padding: 0;position: absolute;width: 1px;}#sk-container-id-4 div.sk-estimator {font-family: monospace;background-color: #f0f8ff;border: 1px dotted black;border-radius: 0.25em;box-sizing: border-box;margin-bottom: 0.5em;}#sk-container-id-4 div.sk-estimator:hover {background-color: #d4ebff;}#sk-container-id-4 div.sk-parallel-item::after {content: \"\";width: 100%;border-bottom: 1px solid gray;flex-grow: 1;}#sk-container-id-4 div.sk-label:hover label.sk-toggleable__label {background-color: #d4ebff;}#sk-container-id-4 div.sk-serial::before {content: \"\";position: absolute;border-left: 1px solid gray;box-sizing: border-box;top: 0;bottom: 0;left: 50%;z-index: 0;}#sk-container-id-4 div.sk-serial {display: flex;flex-direction: column;align-items: center;background-color: white;padding-right: 0.2em;padding-left: 0.2em;position: relative;}#sk-container-id-4 div.sk-item {position: relative;z-index: 1;}#sk-container-id-4 div.sk-parallel {display: flex;align-items: stretch;justify-content: center;background-color: white;position: relative;}#sk-container-id-4 div.sk-item::before, #sk-container-id-4 div.sk-parallel-item::before {content: \"\";position: absolute;border-left: 1px solid gray;box-sizing: border-box;top: 0;bottom: 0;left: 50%;z-index: -1;}#sk-container-id-4 div.sk-parallel-item {display: flex;flex-direction: column;z-index: 1;position: relative;background-color: white;}#sk-container-id-4 div.sk-parallel-item:first-child::after {align-self: flex-end;width: 50%;}#sk-container-id-4 div.sk-parallel-item:last-child::after {align-self: flex-start;width: 50%;}#sk-container-id-4 div.sk-parallel-item:only-child::after {width: 0;}#sk-container-id-4 div.sk-dashed-wrapped {border: 1px dashed gray;margin: 0 0.4em 0.5em 0.4em;box-sizing: border-box;padding-bottom: 0.4em;background-color: white;}#sk-container-id-4 div.sk-label label {font-family: monospace;font-weight: bold;display: inline-block;line-height: 1.2em;}#sk-container-id-4 div.sk-label-container {text-align: center;}#sk-container-id-4 div.sk-container {/* jupyter's `normalize.less` sets `[hidden] { display: none; }` but bootstrap.min.css set `[hidden] { display: none !important; }` so we also need the `!important` here to be able to override the default hidden behavior on the sphinx rendered scikit-learn.org. See: https://github.com/scikit-learn/scikit-learn/issues/21755 */display: inline-block !important;position: relative;}#sk-container-id-4 div.sk-text-repr-fallback {display: none;}</style><div id=\"sk-container-id-4\" class=\"sk-top-container\"><div class=\"sk-text-repr-fallback\"><pre>RandomizedSearchCV(estimator=DecisionTreeClassifier(random_state=42),\n",
       "                   param_distributions={&#x27;class_weight&#x27;: [&#x27;balanced&#x27;],\n",
       "                                        &#x27;max_depth&#x27;: [5, 10, 20, None],\n",
       "                                        &#x27;min_samples_leaf&#x27;: [2, 4, 10],\n",
       "                                        &#x27;min_samples_split&#x27;: [2, 5, 10]},\n",
       "                   scoring=&#x27;recall&#x27;)</pre><b>In a Jupyter environment, please rerun this cell to show the HTML representation or trust the notebook. <br />On GitHub, the HTML representation is unable to render, please try loading this page with nbviewer.org.</b></div><div class=\"sk-container\" hidden><div class=\"sk-item sk-dashed-wrapped\"><div class=\"sk-label-container\"><div class=\"sk-label sk-toggleable\"><input class=\"sk-toggleable__control sk-hidden--visually\" id=\"sk-estimator-id-12\" type=\"checkbox\" ><label for=\"sk-estimator-id-12\" class=\"sk-toggleable__label sk-toggleable__label-arrow\">RandomizedSearchCV</label><div class=\"sk-toggleable__content\"><pre>RandomizedSearchCV(estimator=DecisionTreeClassifier(random_state=42),\n",
       "                   param_distributions={&#x27;class_weight&#x27;: [&#x27;balanced&#x27;],\n",
       "                                        &#x27;max_depth&#x27;: [5, 10, 20, None],\n",
       "                                        &#x27;min_samples_leaf&#x27;: [2, 4, 10],\n",
       "                                        &#x27;min_samples_split&#x27;: [2, 5, 10]},\n",
       "                   scoring=&#x27;recall&#x27;)</pre></div></div></div><div class=\"sk-parallel\"><div class=\"sk-parallel-item\"><div class=\"sk-item\"><div class=\"sk-label-container\"><div class=\"sk-label sk-toggleable\"><input class=\"sk-toggleable__control sk-hidden--visually\" id=\"sk-estimator-id-13\" type=\"checkbox\" ><label for=\"sk-estimator-id-13\" class=\"sk-toggleable__label sk-toggleable__label-arrow\">estimator: DecisionTreeClassifier</label><div class=\"sk-toggleable__content\"><pre>DecisionTreeClassifier(random_state=42)</pre></div></div></div><div class=\"sk-serial\"><div class=\"sk-item\"><div class=\"sk-estimator sk-toggleable\"><input class=\"sk-toggleable__control sk-hidden--visually\" id=\"sk-estimator-id-14\" type=\"checkbox\" ><label for=\"sk-estimator-id-14\" class=\"sk-toggleable__label sk-toggleable__label-arrow\">DecisionTreeClassifier</label><div class=\"sk-toggleable__content\"><pre>DecisionTreeClassifier(random_state=42)</pre></div></div></div></div></div></div></div></div></div></div>"
      ],
      "text/plain": [
       "RandomizedSearchCV(estimator=DecisionTreeClassifier(random_state=42),\n",
       "                   param_distributions={'class_weight': ['balanced'],\n",
       "                                        'max_depth': [5, 10, 20, None],\n",
       "                                        'min_samples_leaf': [2, 4, 10],\n",
       "                                        'min_samples_split': [2, 5, 10]},\n",
       "                   scoring='recall')"
      ]
     },
     "execution_count": 45,
     "metadata": {},
     "output_type": "execute_result"
    }
   ],
   "source": [
    "random_search_2 = RandomizedSearchCV(dt_v1, param_grid_2, scoring=\"recall\")\n",
    "random_search_2.fit(X_train_components, y_train)"
   ]
  },
  {
   "cell_type": "code",
   "execution_count": 46,
   "id": "b41f444f-ab25-44e5-8fb1-3493269f37b9",
   "metadata": {},
   "outputs": [
    {
     "data": {
      "text/plain": [
       "0.9415584415584416"
      ]
     },
     "execution_count": 46,
     "metadata": {},
     "output_type": "execute_result"
    }
   ],
   "source": [
    "random_search_2.best_score_"
   ]
  },
  {
   "cell_type": "code",
   "execution_count": 47,
   "id": "d2ca5c8e-a9b3-4cc1-a1d2-9530f3c8939a",
   "metadata": {},
   "outputs": [
    {
     "data": {
      "text/plain": [
       "{'min_samples_split': 2,\n",
       " 'min_samples_leaf': 4,\n",
       " 'max_depth': 5,\n",
       " 'class_weight': 'balanced'}"
      ]
     },
     "execution_count": 47,
     "metadata": {},
     "output_type": "execute_result"
    }
   ],
   "source": [
    "random_search_2.best_params_"
   ]
  },
  {
   "cell_type": "code",
   "execution_count": 48,
   "id": "28e3c057-8a03-435a-8da6-1f1eb77d904e",
   "metadata": {},
   "outputs": [
    {
     "data": {
      "text/html": [
       "<style>#sk-container-id-5 {color: black;background-color: white;}#sk-container-id-5 pre{padding: 0;}#sk-container-id-5 div.sk-toggleable {background-color: white;}#sk-container-id-5 label.sk-toggleable__label {cursor: pointer;display: block;width: 100%;margin-bottom: 0;padding: 0.3em;box-sizing: border-box;text-align: center;}#sk-container-id-5 label.sk-toggleable__label-arrow:before {content: \"▸\";float: left;margin-right: 0.25em;color: #696969;}#sk-container-id-5 label.sk-toggleable__label-arrow:hover:before {color: black;}#sk-container-id-5 div.sk-estimator:hover label.sk-toggleable__label-arrow:before {color: black;}#sk-container-id-5 div.sk-toggleable__content {max-height: 0;max-width: 0;overflow: hidden;text-align: left;background-color: #f0f8ff;}#sk-container-id-5 div.sk-toggleable__content pre {margin: 0.2em;color: black;border-radius: 0.25em;background-color: #f0f8ff;}#sk-container-id-5 input.sk-toggleable__control:checked~div.sk-toggleable__content {max-height: 200px;max-width: 100%;overflow: auto;}#sk-container-id-5 input.sk-toggleable__control:checked~label.sk-toggleable__label-arrow:before {content: \"▾\";}#sk-container-id-5 div.sk-estimator input.sk-toggleable__control:checked~label.sk-toggleable__label {background-color: #d4ebff;}#sk-container-id-5 div.sk-label input.sk-toggleable__control:checked~label.sk-toggleable__label {background-color: #d4ebff;}#sk-container-id-5 input.sk-hidden--visually {border: 0;clip: rect(1px 1px 1px 1px);clip: rect(1px, 1px, 1px, 1px);height: 1px;margin: -1px;overflow: hidden;padding: 0;position: absolute;width: 1px;}#sk-container-id-5 div.sk-estimator {font-family: monospace;background-color: #f0f8ff;border: 1px dotted black;border-radius: 0.25em;box-sizing: border-box;margin-bottom: 0.5em;}#sk-container-id-5 div.sk-estimator:hover {background-color: #d4ebff;}#sk-container-id-5 div.sk-parallel-item::after {content: \"\";width: 100%;border-bottom: 1px solid gray;flex-grow: 1;}#sk-container-id-5 div.sk-label:hover label.sk-toggleable__label {background-color: #d4ebff;}#sk-container-id-5 div.sk-serial::before {content: \"\";position: absolute;border-left: 1px solid gray;box-sizing: border-box;top: 0;bottom: 0;left: 50%;z-index: 0;}#sk-container-id-5 div.sk-serial {display: flex;flex-direction: column;align-items: center;background-color: white;padding-right: 0.2em;padding-left: 0.2em;position: relative;}#sk-container-id-5 div.sk-item {position: relative;z-index: 1;}#sk-container-id-5 div.sk-parallel {display: flex;align-items: stretch;justify-content: center;background-color: white;position: relative;}#sk-container-id-5 div.sk-item::before, #sk-container-id-5 div.sk-parallel-item::before {content: \"\";position: absolute;border-left: 1px solid gray;box-sizing: border-box;top: 0;bottom: 0;left: 50%;z-index: -1;}#sk-container-id-5 div.sk-parallel-item {display: flex;flex-direction: column;z-index: 1;position: relative;background-color: white;}#sk-container-id-5 div.sk-parallel-item:first-child::after {align-self: flex-end;width: 50%;}#sk-container-id-5 div.sk-parallel-item:last-child::after {align-self: flex-start;width: 50%;}#sk-container-id-5 div.sk-parallel-item:only-child::after {width: 0;}#sk-container-id-5 div.sk-dashed-wrapped {border: 1px dashed gray;margin: 0 0.4em 0.5em 0.4em;box-sizing: border-box;padding-bottom: 0.4em;background-color: white;}#sk-container-id-5 div.sk-label label {font-family: monospace;font-weight: bold;display: inline-block;line-height: 1.2em;}#sk-container-id-5 div.sk-label-container {text-align: center;}#sk-container-id-5 div.sk-container {/* jupyter's `normalize.less` sets `[hidden] { display: none; }` but bootstrap.min.css set `[hidden] { display: none !important; }` so we also need the `!important` here to be able to override the default hidden behavior on the sphinx rendered scikit-learn.org. See: https://github.com/scikit-learn/scikit-learn/issues/21755 */display: inline-block !important;position: relative;}#sk-container-id-5 div.sk-text-repr-fallback {display: none;}</style><div id=\"sk-container-id-5\" class=\"sk-top-container\"><div class=\"sk-text-repr-fallback\"><pre>GridSearchCV(estimator=DecisionTreeClassifier(random_state=42),\n",
       "             param_grid={&#x27;class_weight&#x27;: [&#x27;balanced&#x27;],\n",
       "                         &#x27;max_depth&#x27;: [5, 10, 20, None],\n",
       "                         &#x27;min_samples_leaf&#x27;: [2, 4, 10],\n",
       "                         &#x27;min_samples_split&#x27;: [2, 5, 10]},\n",
       "             scoring=&#x27;recall&#x27;)</pre><b>In a Jupyter environment, please rerun this cell to show the HTML representation or trust the notebook. <br />On GitHub, the HTML representation is unable to render, please try loading this page with nbviewer.org.</b></div><div class=\"sk-container\" hidden><div class=\"sk-item sk-dashed-wrapped\"><div class=\"sk-label-container\"><div class=\"sk-label sk-toggleable\"><input class=\"sk-toggleable__control sk-hidden--visually\" id=\"sk-estimator-id-15\" type=\"checkbox\" ><label for=\"sk-estimator-id-15\" class=\"sk-toggleable__label sk-toggleable__label-arrow\">GridSearchCV</label><div class=\"sk-toggleable__content\"><pre>GridSearchCV(estimator=DecisionTreeClassifier(random_state=42),\n",
       "             param_grid={&#x27;class_weight&#x27;: [&#x27;balanced&#x27;],\n",
       "                         &#x27;max_depth&#x27;: [5, 10, 20, None],\n",
       "                         &#x27;min_samples_leaf&#x27;: [2, 4, 10],\n",
       "                         &#x27;min_samples_split&#x27;: [2, 5, 10]},\n",
       "             scoring=&#x27;recall&#x27;)</pre></div></div></div><div class=\"sk-parallel\"><div class=\"sk-parallel-item\"><div class=\"sk-item\"><div class=\"sk-label-container\"><div class=\"sk-label sk-toggleable\"><input class=\"sk-toggleable__control sk-hidden--visually\" id=\"sk-estimator-id-16\" type=\"checkbox\" ><label for=\"sk-estimator-id-16\" class=\"sk-toggleable__label sk-toggleable__label-arrow\">estimator: DecisionTreeClassifier</label><div class=\"sk-toggleable__content\"><pre>DecisionTreeClassifier(random_state=42)</pre></div></div></div><div class=\"sk-serial\"><div class=\"sk-item\"><div class=\"sk-estimator sk-toggleable\"><input class=\"sk-toggleable__control sk-hidden--visually\" id=\"sk-estimator-id-17\" type=\"checkbox\" ><label for=\"sk-estimator-id-17\" class=\"sk-toggleable__label sk-toggleable__label-arrow\">DecisionTreeClassifier</label><div class=\"sk-toggleable__content\"><pre>DecisionTreeClassifier(random_state=42)</pre></div></div></div></div></div></div></div></div></div></div>"
      ],
      "text/plain": [
       "GridSearchCV(estimator=DecisionTreeClassifier(random_state=42),\n",
       "             param_grid={'class_weight': ['balanced'],\n",
       "                         'max_depth': [5, 10, 20, None],\n",
       "                         'min_samples_leaf': [2, 4, 10],\n",
       "                         'min_samples_split': [2, 5, 10]},\n",
       "             scoring='recall')"
      ]
     },
     "execution_count": 48,
     "metadata": {},
     "output_type": "execute_result"
    }
   ],
   "source": [
    "grid_search_2 = GridSearchCV(dt_v1, param_grid_2, scoring=\"recall\")\n",
    "grid_search_2.fit(X_train_components, y_train)"
   ]
  },
  {
   "cell_type": "code",
   "execution_count": 49,
   "id": "0f866957-fce0-4da5-94d0-8c0241cb0eb9",
   "metadata": {},
   "outputs": [
    {
     "data": {
      "text/plain": [
       "0.9428571428571428"
      ]
     },
     "execution_count": 49,
     "metadata": {},
     "output_type": "execute_result"
    }
   ],
   "source": [
    "grid_search_2.best_score_"
   ]
  },
  {
   "cell_type": "code",
   "execution_count": 50,
   "id": "53dd30c4-4705-4de5-b748-c7bdd0c34347",
   "metadata": {},
   "outputs": [
    {
     "data": {
      "text/plain": [
       "{'class_weight': 'balanced',\n",
       " 'max_depth': 5,\n",
       " 'min_samples_leaf': 10,\n",
       " 'min_samples_split': 2}"
      ]
     },
     "execution_count": 50,
     "metadata": {},
     "output_type": "execute_result"
    }
   ],
   "source": [
    "grid_search_2.best_params_"
   ]
  },
  {
   "cell_type": "markdown",
   "id": "d6639684-e52d-4028-9230-638b7066565f",
   "metadata": {},
   "source": [
    "## Final model building"
   ]
  },
  {
   "cell_type": "code",
   "execution_count": 51,
   "id": "c29c39de-106c-41bb-8441-a667d41b89ac",
   "metadata": {},
   "outputs": [],
   "source": [
    "best_params = {'min_samples_split': 5,\n",
    " 'min_samples_leaf': 2,\n",
    " 'max_depth': 5,\n",
    " 'class_weight': 'balanced'}"
   ]
  },
  {
   "cell_type": "code",
   "execution_count": 52,
   "id": "b4b0ea85-6689-41fd-a8ef-8ed595f07d78",
   "metadata": {},
   "outputs": [],
   "source": [
    "# model = RandomForestClassifier(**best_params, random_state=42)\n",
    "model = DecisionTreeClassifier(**best_params)"
   ]
  },
  {
   "cell_type": "code",
   "execution_count": 53,
   "id": "afff7e1d-4aaa-4044-9ede-0d99e52ab4b5",
   "metadata": {},
   "outputs": [
    {
     "data": {
      "text/html": [
       "<style>#sk-container-id-6 {color: black;background-color: white;}#sk-container-id-6 pre{padding: 0;}#sk-container-id-6 div.sk-toggleable {background-color: white;}#sk-container-id-6 label.sk-toggleable__label {cursor: pointer;display: block;width: 100%;margin-bottom: 0;padding: 0.3em;box-sizing: border-box;text-align: center;}#sk-container-id-6 label.sk-toggleable__label-arrow:before {content: \"▸\";float: left;margin-right: 0.25em;color: #696969;}#sk-container-id-6 label.sk-toggleable__label-arrow:hover:before {color: black;}#sk-container-id-6 div.sk-estimator:hover label.sk-toggleable__label-arrow:before {color: black;}#sk-container-id-6 div.sk-toggleable__content {max-height: 0;max-width: 0;overflow: hidden;text-align: left;background-color: #f0f8ff;}#sk-container-id-6 div.sk-toggleable__content pre {margin: 0.2em;color: black;border-radius: 0.25em;background-color: #f0f8ff;}#sk-container-id-6 input.sk-toggleable__control:checked~div.sk-toggleable__content {max-height: 200px;max-width: 100%;overflow: auto;}#sk-container-id-6 input.sk-toggleable__control:checked~label.sk-toggleable__label-arrow:before {content: \"▾\";}#sk-container-id-6 div.sk-estimator input.sk-toggleable__control:checked~label.sk-toggleable__label {background-color: #d4ebff;}#sk-container-id-6 div.sk-label input.sk-toggleable__control:checked~label.sk-toggleable__label {background-color: #d4ebff;}#sk-container-id-6 input.sk-hidden--visually {border: 0;clip: rect(1px 1px 1px 1px);clip: rect(1px, 1px, 1px, 1px);height: 1px;margin: -1px;overflow: hidden;padding: 0;position: absolute;width: 1px;}#sk-container-id-6 div.sk-estimator {font-family: monospace;background-color: #f0f8ff;border: 1px dotted black;border-radius: 0.25em;box-sizing: border-box;margin-bottom: 0.5em;}#sk-container-id-6 div.sk-estimator:hover {background-color: #d4ebff;}#sk-container-id-6 div.sk-parallel-item::after {content: \"\";width: 100%;border-bottom: 1px solid gray;flex-grow: 1;}#sk-container-id-6 div.sk-label:hover label.sk-toggleable__label {background-color: #d4ebff;}#sk-container-id-6 div.sk-serial::before {content: \"\";position: absolute;border-left: 1px solid gray;box-sizing: border-box;top: 0;bottom: 0;left: 50%;z-index: 0;}#sk-container-id-6 div.sk-serial {display: flex;flex-direction: column;align-items: center;background-color: white;padding-right: 0.2em;padding-left: 0.2em;position: relative;}#sk-container-id-6 div.sk-item {position: relative;z-index: 1;}#sk-container-id-6 div.sk-parallel {display: flex;align-items: stretch;justify-content: center;background-color: white;position: relative;}#sk-container-id-6 div.sk-item::before, #sk-container-id-6 div.sk-parallel-item::before {content: \"\";position: absolute;border-left: 1px solid gray;box-sizing: border-box;top: 0;bottom: 0;left: 50%;z-index: -1;}#sk-container-id-6 div.sk-parallel-item {display: flex;flex-direction: column;z-index: 1;position: relative;background-color: white;}#sk-container-id-6 div.sk-parallel-item:first-child::after {align-self: flex-end;width: 50%;}#sk-container-id-6 div.sk-parallel-item:last-child::after {align-self: flex-start;width: 50%;}#sk-container-id-6 div.sk-parallel-item:only-child::after {width: 0;}#sk-container-id-6 div.sk-dashed-wrapped {border: 1px dashed gray;margin: 0 0.4em 0.5em 0.4em;box-sizing: border-box;padding-bottom: 0.4em;background-color: white;}#sk-container-id-6 div.sk-label label {font-family: monospace;font-weight: bold;display: inline-block;line-height: 1.2em;}#sk-container-id-6 div.sk-label-container {text-align: center;}#sk-container-id-6 div.sk-container {/* jupyter's `normalize.less` sets `[hidden] { display: none; }` but bootstrap.min.css set `[hidden] { display: none !important; }` so we also need the `!important` here to be able to override the default hidden behavior on the sphinx rendered scikit-learn.org. See: https://github.com/scikit-learn/scikit-learn/issues/21755 */display: inline-block !important;position: relative;}#sk-container-id-6 div.sk-text-repr-fallback {display: none;}</style><div id=\"sk-container-id-6\" class=\"sk-top-container\"><div class=\"sk-text-repr-fallback\"><pre>DecisionTreeClassifier(class_weight=&#x27;balanced&#x27;, max_depth=5, min_samples_leaf=2,\n",
       "                       min_samples_split=5)</pre><b>In a Jupyter environment, please rerun this cell to show the HTML representation or trust the notebook. <br />On GitHub, the HTML representation is unable to render, please try loading this page with nbviewer.org.</b></div><div class=\"sk-container\" hidden><div class=\"sk-item\"><div class=\"sk-estimator sk-toggleable\"><input class=\"sk-toggleable__control sk-hidden--visually\" id=\"sk-estimator-id-18\" type=\"checkbox\" checked><label for=\"sk-estimator-id-18\" class=\"sk-toggleable__label sk-toggleable__label-arrow\">DecisionTreeClassifier</label><div class=\"sk-toggleable__content\"><pre>DecisionTreeClassifier(class_weight=&#x27;balanced&#x27;, max_depth=5, min_samples_leaf=2,\n",
       "                       min_samples_split=5)</pre></div></div></div></div></div>"
      ],
      "text/plain": [
       "DecisionTreeClassifier(class_weight='balanced', max_depth=5, min_samples_leaf=2,\n",
       "                       min_samples_split=5)"
      ]
     },
     "execution_count": 53,
     "metadata": {},
     "output_type": "execute_result"
    }
   ],
   "source": [
    "model.fit(X_train_components, y_train)"
   ]
  },
  {
   "cell_type": "code",
   "execution_count": 54,
   "id": "9710f37c-3c18-4a67-9d62-b56ebf0a4507",
   "metadata": {},
   "outputs": [],
   "source": [
    "y_preds = model.predict(X_train_components)"
   ]
  },
  {
   "cell_type": "code",
   "execution_count": 55,
   "id": "de222415-d415-47c1-a7a1-775c727c35d0",
   "metadata": {},
   "outputs": [
    {
     "data": {
      "text/plain": [
       "0.9727272727272728"
      ]
     },
     "execution_count": 55,
     "metadata": {},
     "output_type": "execute_result"
    }
   ],
   "source": [
    "recall_score(y_train, y_preds)"
   ]
  },
  {
   "cell_type": "code",
   "execution_count": 56,
   "id": "9bd2760e-65de-4003-85b0-e13c27879c43",
   "metadata": {},
   "outputs": [
    {
     "data": {
      "text/plain": [
       "0.21436748712077847"
      ]
     },
     "execution_count": 56,
     "metadata": {},
     "output_type": "execute_result"
    }
   ],
   "source": [
    "precision_score(y_train, y_preds)"
   ]
  },
  {
   "cell_type": "code",
   "execution_count": 57,
   "id": "11bca047-c6f2-4bc4-a407-da311ca9d78c",
   "metadata": {},
   "outputs": [
    {
     "data": {
      "text/plain": [
       "array([[44485,  2745],\n",
       "       [   21,   749]], dtype=int64)"
      ]
     },
     "execution_count": 57,
     "metadata": {},
     "output_type": "execute_result"
    }
   ],
   "source": [
    "confusion_matrix(y_train, y_preds)"
   ]
  },
  {
   "cell_type": "markdown",
   "id": "2f1d0407-48ea-4de5-8364-f74cdcfb114e",
   "metadata": {},
   "source": [
    "As you can see, we opted to have a high recall score instead a high precision due to the cost of the false negatives. The model predicts more positives cases on the dataset because the false positives only costs $10 if it gets the prediction wrong."
   ]
  },
  {
   "cell_type": "markdown",
   "id": "2bf78ad7-b2e8-42ca-841e-01e779b44db7",
   "metadata": {},
   "source": [
    "## Business testing using the model"
   ]
  },
  {
   "cell_type": "code",
   "execution_count": 58,
   "id": "728e5cc6-78fd-445d-8deb-b6116bbfa5d2",
   "metadata": {},
   "outputs": [],
   "source": [
    "def model_report(y_true, y_pred, y_benchmark=None):\n",
    "    recall = recall_score(y_true, y_pred)\n",
    "    precision = precision_score(y_true, y_pred)\n",
    "\n",
    "    fp = ((y_pred == 1) & (y_true == 0)).sum()\n",
    "    fn = ((y_pred == 0) & (y_true == 1)).sum()\n",
    "    tp = ((y_pred == 1) & (y_true == 1)).sum()\n",
    "\n",
    "\n",
    "    total_cost = fp*10 + fn*500 + tp*25\n",
    "    unecessary_cost = total_cost - tp*25\n",
    "    money_saved = (y_true == 1).sum()*500 - total_cost\n",
    "\n",
    "    if y_benchmark is not None:\n",
    "        recall_benchmark = recall_score(y_true, y_benchmark)\n",
    "        precision_benchmark = precision_score(y_true, y_benchmark)\n",
    "        \n",
    "        fp_benchmark = ((y_benchmark == 1) & (y_true == 0)).sum()\n",
    "        fn_benchmark = ((y_benchmark == 0) & (y_true == 1)).sum()\n",
    "        tp_benchmark = ((y_benchmark == 1) & (y_true == 1)).sum()\n",
    "\n",
    "        total_cost_benchmark = fp_benchmark*10 + fn_benchmark*500 + tp_benchmark*25\n",
    "        unecessary_cost_benchmark = total_cost_benchmark - tp_benchmark*25\n",
    "        money_saved_benchmark = (y_true == 1).sum()*500 - total_cost_benchmark\n",
    "\n",
    "    print(\"====================\")\n",
    "    print(\"MODEL REPORT\")\n",
    "    print(\"Recall score: {:.4f}\\nPrecision score: {:.4f}\\n\".format(recall, precision))\n",
    "    print(\"Total cost spent: ${}\\nUnnecessary Cost (model error): ${}\\nMoney Saved With the Model: ${}\".format(total_cost, unecessary_cost, money_saved))\n",
    "    if y_benchmark is not None:\n",
    "        print(\"--------------------\")\n",
    "        print(\"BENCHMARK\")\n",
    "        print(\"Recall score: {:.4f}\\nPrecision score: {:.4f}\\n\".format(recall_benchmark, precision_benchmark))\n",
    "        print(\"Total cost spent: ${}\\nUnnecessary Cost (model error): ${}\\nMoney Saved With the Model: ${}\".format(total_cost_benchmark, unecessary_cost_benchmark, money_saved_benchmark))\n",
    "    print(\"====================\")"
   ]
  },
  {
   "cell_type": "code",
   "execution_count": 59,
   "id": "192455dc-db40-41b6-a33e-3f1a68d9230b",
   "metadata": {},
   "outputs": [],
   "source": [
    "X_test, y_test = test.drop(columns=['class']), test['class']\n",
    "X_test_components, y_test = preprocess_data(X_test, y_test, transformer_pipeline)"
   ]
  },
  {
   "cell_type": "code",
   "execution_count": 60,
   "id": "2c3fe3b8-acaa-4f6a-ba2c-3ff9649ae56f",
   "metadata": {},
   "outputs": [
    {
     "data": {
      "text/plain": [
       "array([0, 1, 0, ..., 0, 0, 0])"
      ]
     },
     "execution_count": 60,
     "metadata": {},
     "output_type": "execute_result"
    }
   ],
   "source": [
    "y_pred = model.predict(X_test_components)\n",
    "y_pred"
   ]
  },
  {
   "cell_type": "code",
   "execution_count": 61,
   "id": "fc7e7149-aa78-46bd-bb8d-ccbd83ef2891",
   "metadata": {},
   "outputs": [],
   "source": [
    "dt_benchmark.fit(X_train_components, y_train)\n",
    "\n",
    "y_bench = dt_benchmark.predict(X_test_components)"
   ]
  },
  {
   "cell_type": "code",
   "execution_count": 62,
   "id": "6787050a-d67a-4058-97eb-e77a459ec246",
   "metadata": {},
   "outputs": [
    {
     "name": "stdout",
     "output_type": "stream",
     "text": [
      "====================\n",
      "MODEL REPORT\n",
      "Recall score: 0.9391\n",
      "Precision score: 0.2424\n",
      "\n",
      "Total cost spent: $19150\n",
      "Unnecessary Cost (model error): $13750\n",
      "Money Saved With the Model: $95850\n",
      "--------------------\n",
      "BENCHMARK\n",
      "Recall score: 0.5609\n",
      "Precision score: 0.5945\n",
      "\n",
      "Total cost spent: $54605\n",
      "Unnecessary Cost (model error): $51380\n",
      "Money Saved With the Model: $60395\n",
      "====================\n"
     ]
    }
   ],
   "source": [
    "model_report(y_test, y_pred, y_bench)"
   ]
  },
  {
   "cell_type": "markdown",
   "id": "1c2cb48c-ac91-4103-99fa-c6dc3074b521",
   "metadata": {},
   "source": [
    "## Completed Model trained on the whole dataset"
   ]
  },
  {
   "cell_type": "code",
   "execution_count": 63,
   "id": "276c1ea1-8bd2-4379-b10b-15e29bae59c3",
   "metadata": {},
   "outputs": [],
   "source": [
    "X_data, y_data = prev_years.drop(columns='class'), prev_years['class']\n",
    "\n",
    "X_preprocessed, y_preprocessed = preprocess_data(X_data, y_data, transformer_pipeline)"
   ]
  },
  {
   "cell_type": "code",
   "execution_count": 64,
   "id": "288c229a-e835-4c11-a3ae-ce75ec87d3a8",
   "metadata": {},
   "outputs": [
    {
     "data": {
      "text/html": [
       "<style>#sk-container-id-7 {color: black;background-color: white;}#sk-container-id-7 pre{padding: 0;}#sk-container-id-7 div.sk-toggleable {background-color: white;}#sk-container-id-7 label.sk-toggleable__label {cursor: pointer;display: block;width: 100%;margin-bottom: 0;padding: 0.3em;box-sizing: border-box;text-align: center;}#sk-container-id-7 label.sk-toggleable__label-arrow:before {content: \"▸\";float: left;margin-right: 0.25em;color: #696969;}#sk-container-id-7 label.sk-toggleable__label-arrow:hover:before {color: black;}#sk-container-id-7 div.sk-estimator:hover label.sk-toggleable__label-arrow:before {color: black;}#sk-container-id-7 div.sk-toggleable__content {max-height: 0;max-width: 0;overflow: hidden;text-align: left;background-color: #f0f8ff;}#sk-container-id-7 div.sk-toggleable__content pre {margin: 0.2em;color: black;border-radius: 0.25em;background-color: #f0f8ff;}#sk-container-id-7 input.sk-toggleable__control:checked~div.sk-toggleable__content {max-height: 200px;max-width: 100%;overflow: auto;}#sk-container-id-7 input.sk-toggleable__control:checked~label.sk-toggleable__label-arrow:before {content: \"▾\";}#sk-container-id-7 div.sk-estimator input.sk-toggleable__control:checked~label.sk-toggleable__label {background-color: #d4ebff;}#sk-container-id-7 div.sk-label input.sk-toggleable__control:checked~label.sk-toggleable__label {background-color: #d4ebff;}#sk-container-id-7 input.sk-hidden--visually {border: 0;clip: rect(1px 1px 1px 1px);clip: rect(1px, 1px, 1px, 1px);height: 1px;margin: -1px;overflow: hidden;padding: 0;position: absolute;width: 1px;}#sk-container-id-7 div.sk-estimator {font-family: monospace;background-color: #f0f8ff;border: 1px dotted black;border-radius: 0.25em;box-sizing: border-box;margin-bottom: 0.5em;}#sk-container-id-7 div.sk-estimator:hover {background-color: #d4ebff;}#sk-container-id-7 div.sk-parallel-item::after {content: \"\";width: 100%;border-bottom: 1px solid gray;flex-grow: 1;}#sk-container-id-7 div.sk-label:hover label.sk-toggleable__label {background-color: #d4ebff;}#sk-container-id-7 div.sk-serial::before {content: \"\";position: absolute;border-left: 1px solid gray;box-sizing: border-box;top: 0;bottom: 0;left: 50%;z-index: 0;}#sk-container-id-7 div.sk-serial {display: flex;flex-direction: column;align-items: center;background-color: white;padding-right: 0.2em;padding-left: 0.2em;position: relative;}#sk-container-id-7 div.sk-item {position: relative;z-index: 1;}#sk-container-id-7 div.sk-parallel {display: flex;align-items: stretch;justify-content: center;background-color: white;position: relative;}#sk-container-id-7 div.sk-item::before, #sk-container-id-7 div.sk-parallel-item::before {content: \"\";position: absolute;border-left: 1px solid gray;box-sizing: border-box;top: 0;bottom: 0;left: 50%;z-index: -1;}#sk-container-id-7 div.sk-parallel-item {display: flex;flex-direction: column;z-index: 1;position: relative;background-color: white;}#sk-container-id-7 div.sk-parallel-item:first-child::after {align-self: flex-end;width: 50%;}#sk-container-id-7 div.sk-parallel-item:last-child::after {align-self: flex-start;width: 50%;}#sk-container-id-7 div.sk-parallel-item:only-child::after {width: 0;}#sk-container-id-7 div.sk-dashed-wrapped {border: 1px dashed gray;margin: 0 0.4em 0.5em 0.4em;box-sizing: border-box;padding-bottom: 0.4em;background-color: white;}#sk-container-id-7 div.sk-label label {font-family: monospace;font-weight: bold;display: inline-block;line-height: 1.2em;}#sk-container-id-7 div.sk-label-container {text-align: center;}#sk-container-id-7 div.sk-container {/* jupyter's `normalize.less` sets `[hidden] { display: none; }` but bootstrap.min.css set `[hidden] { display: none !important; }` so we also need the `!important` here to be able to override the default hidden behavior on the sphinx rendered scikit-learn.org. See: https://github.com/scikit-learn/scikit-learn/issues/21755 */display: inline-block !important;position: relative;}#sk-container-id-7 div.sk-text-repr-fallback {display: none;}</style><div id=\"sk-container-id-7\" class=\"sk-top-container\"><div class=\"sk-text-repr-fallback\"><pre>DecisionTreeClassifier(class_weight=&#x27;balanced&#x27;, max_depth=5, min_samples_leaf=2,\n",
       "                       min_samples_split=5)</pre><b>In a Jupyter environment, please rerun this cell to show the HTML representation or trust the notebook. <br />On GitHub, the HTML representation is unable to render, please try loading this page with nbviewer.org.</b></div><div class=\"sk-container\" hidden><div class=\"sk-item\"><div class=\"sk-estimator sk-toggleable\"><input class=\"sk-toggleable__control sk-hidden--visually\" id=\"sk-estimator-id-19\" type=\"checkbox\" checked><label for=\"sk-estimator-id-19\" class=\"sk-toggleable__label sk-toggleable__label-arrow\">DecisionTreeClassifier</label><div class=\"sk-toggleable__content\"><pre>DecisionTreeClassifier(class_weight=&#x27;balanced&#x27;, max_depth=5, min_samples_leaf=2,\n",
       "                       min_samples_split=5)</pre></div></div></div></div></div>"
      ],
      "text/plain": [
       "DecisionTreeClassifier(class_weight='balanced', max_depth=5, min_samples_leaf=2,\n",
       "                       min_samples_split=5)"
      ]
     },
     "execution_count": 64,
     "metadata": {},
     "output_type": "execute_result"
    }
   ],
   "source": [
    "model = DecisionTreeClassifier(**best_params)\n",
    "model"
   ]
  },
  {
   "cell_type": "code",
   "execution_count": 65,
   "id": "9fe9b950-0775-4a75-9951-8937f075a623",
   "metadata": {},
   "outputs": [
    {
     "name": "stdout",
     "output_type": "stream",
     "text": [
      "METRIC: recall\n",
      "SCORES: [0.935 0.95  0.915 0.95  0.965]\n",
      "MEAN: 0.9430\n",
      "STD: 0.0169\n",
      "\n",
      "METRIC: precision\n",
      "SCORES: [0.21618497 0.22144522 0.22648515 0.22538553 0.21758737]\n",
      "MEAN: 0.2214\n",
      "STD: 0.0041\n",
      "\n",
      "METRIC: accuracy\n",
      "SCORES: [0.94241667 0.9435     0.9465     0.94475    0.94158333]\n",
      "MEAN: 0.9437\n",
      "STD: 0.0017\n",
      "\n"
     ]
    }
   ],
   "source": [
    "evaluate_model(model, X_preprocessed, y_preprocessed)"
   ]
  },
  {
   "cell_type": "code",
   "execution_count": 66,
   "id": "51ee3fa2-5697-418e-a149-aff5b7e8c471",
   "metadata": {},
   "outputs": [
    {
     "data": {
      "text/html": [
       "<style>#sk-container-id-8 {color: black;background-color: white;}#sk-container-id-8 pre{padding: 0;}#sk-container-id-8 div.sk-toggleable {background-color: white;}#sk-container-id-8 label.sk-toggleable__label {cursor: pointer;display: block;width: 100%;margin-bottom: 0;padding: 0.3em;box-sizing: border-box;text-align: center;}#sk-container-id-8 label.sk-toggleable__label-arrow:before {content: \"▸\";float: left;margin-right: 0.25em;color: #696969;}#sk-container-id-8 label.sk-toggleable__label-arrow:hover:before {color: black;}#sk-container-id-8 div.sk-estimator:hover label.sk-toggleable__label-arrow:before {color: black;}#sk-container-id-8 div.sk-toggleable__content {max-height: 0;max-width: 0;overflow: hidden;text-align: left;background-color: #f0f8ff;}#sk-container-id-8 div.sk-toggleable__content pre {margin: 0.2em;color: black;border-radius: 0.25em;background-color: #f0f8ff;}#sk-container-id-8 input.sk-toggleable__control:checked~div.sk-toggleable__content {max-height: 200px;max-width: 100%;overflow: auto;}#sk-container-id-8 input.sk-toggleable__control:checked~label.sk-toggleable__label-arrow:before {content: \"▾\";}#sk-container-id-8 div.sk-estimator input.sk-toggleable__control:checked~label.sk-toggleable__label {background-color: #d4ebff;}#sk-container-id-8 div.sk-label input.sk-toggleable__control:checked~label.sk-toggleable__label {background-color: #d4ebff;}#sk-container-id-8 input.sk-hidden--visually {border: 0;clip: rect(1px 1px 1px 1px);clip: rect(1px, 1px, 1px, 1px);height: 1px;margin: -1px;overflow: hidden;padding: 0;position: absolute;width: 1px;}#sk-container-id-8 div.sk-estimator {font-family: monospace;background-color: #f0f8ff;border: 1px dotted black;border-radius: 0.25em;box-sizing: border-box;margin-bottom: 0.5em;}#sk-container-id-8 div.sk-estimator:hover {background-color: #d4ebff;}#sk-container-id-8 div.sk-parallel-item::after {content: \"\";width: 100%;border-bottom: 1px solid gray;flex-grow: 1;}#sk-container-id-8 div.sk-label:hover label.sk-toggleable__label {background-color: #d4ebff;}#sk-container-id-8 div.sk-serial::before {content: \"\";position: absolute;border-left: 1px solid gray;box-sizing: border-box;top: 0;bottom: 0;left: 50%;z-index: 0;}#sk-container-id-8 div.sk-serial {display: flex;flex-direction: column;align-items: center;background-color: white;padding-right: 0.2em;padding-left: 0.2em;position: relative;}#sk-container-id-8 div.sk-item {position: relative;z-index: 1;}#sk-container-id-8 div.sk-parallel {display: flex;align-items: stretch;justify-content: center;background-color: white;position: relative;}#sk-container-id-8 div.sk-item::before, #sk-container-id-8 div.sk-parallel-item::before {content: \"\";position: absolute;border-left: 1px solid gray;box-sizing: border-box;top: 0;bottom: 0;left: 50%;z-index: -1;}#sk-container-id-8 div.sk-parallel-item {display: flex;flex-direction: column;z-index: 1;position: relative;background-color: white;}#sk-container-id-8 div.sk-parallel-item:first-child::after {align-self: flex-end;width: 50%;}#sk-container-id-8 div.sk-parallel-item:last-child::after {align-self: flex-start;width: 50%;}#sk-container-id-8 div.sk-parallel-item:only-child::after {width: 0;}#sk-container-id-8 div.sk-dashed-wrapped {border: 1px dashed gray;margin: 0 0.4em 0.5em 0.4em;box-sizing: border-box;padding-bottom: 0.4em;background-color: white;}#sk-container-id-8 div.sk-label label {font-family: monospace;font-weight: bold;display: inline-block;line-height: 1.2em;}#sk-container-id-8 div.sk-label-container {text-align: center;}#sk-container-id-8 div.sk-container {/* jupyter's `normalize.less` sets `[hidden] { display: none; }` but bootstrap.min.css set `[hidden] { display: none !important; }` so we also need the `!important` here to be able to override the default hidden behavior on the sphinx rendered scikit-learn.org. See: https://github.com/scikit-learn/scikit-learn/issues/21755 */display: inline-block !important;position: relative;}#sk-container-id-8 div.sk-text-repr-fallback {display: none;}</style><div id=\"sk-container-id-8\" class=\"sk-top-container\"><div class=\"sk-text-repr-fallback\"><pre>DecisionTreeClassifier(class_weight=&#x27;balanced&#x27;, max_depth=5, min_samples_leaf=2,\n",
       "                       min_samples_split=5)</pre><b>In a Jupyter environment, please rerun this cell to show the HTML representation or trust the notebook. <br />On GitHub, the HTML representation is unable to render, please try loading this page with nbviewer.org.</b></div><div class=\"sk-container\" hidden><div class=\"sk-item\"><div class=\"sk-estimator sk-toggleable\"><input class=\"sk-toggleable__control sk-hidden--visually\" id=\"sk-estimator-id-20\" type=\"checkbox\" checked><label for=\"sk-estimator-id-20\" class=\"sk-toggleable__label sk-toggleable__label-arrow\">DecisionTreeClassifier</label><div class=\"sk-toggleable__content\"><pre>DecisionTreeClassifier(class_weight=&#x27;balanced&#x27;, max_depth=5, min_samples_leaf=2,\n",
       "                       min_samples_split=5)</pre></div></div></div></div></div>"
      ],
      "text/plain": [
       "DecisionTreeClassifier(class_weight='balanced', max_depth=5, min_samples_leaf=2,\n",
       "                       min_samples_split=5)"
      ]
     },
     "execution_count": 66,
     "metadata": {},
     "output_type": "execute_result"
    }
   ],
   "source": [
    "model.fit(X_preprocessed, y_preprocessed)"
   ]
  },
  {
   "cell_type": "markdown",
   "id": "f58219ae-2694-45a6-b615-09821e5cfce8",
   "metadata": {},
   "source": [
    "## Model persistence"
   ]
  },
  {
   "cell_type": "code",
   "execution_count": 67,
   "id": "e3872216-4478-4bf7-bf89-fd497b2d32be",
   "metadata": {},
   "outputs": [],
   "source": [
    "with open('models/model_v1.pickle', 'wb') as file:\n",
    "    pickle.dump(model, file)\n",
    "\n",
    "with open('models/transformer_pipeline.pickle', 'wb') as file:\n",
    "    pickle.dump(transformer_pipeline, file)"
   ]
  },
  {
   "cell_type": "markdown",
   "id": "f41cf335-9626-4fdb-af41-29923a54d573",
   "metadata": {},
   "source": [
    "## Test on present year"
   ]
  },
  {
   "cell_type": "code",
   "execution_count": 68,
   "id": "0ea04b39-70f1-46eb-8b33-8aebfa9e6217",
   "metadata": {},
   "outputs": [],
   "source": [
    "pres_year = pd.read_csv('data/air_system_present_year.csv', na_values=['na'])\n",
    "\n",
    "new_features, classes = pres_year.drop(columns='class'), pres_year['class']\n",
    "\n",
    "new_features_preprocessed, classes_preprocessed = preprocess_data(new_features, classes, transformer_pipeline)"
   ]
  },
  {
   "cell_type": "code",
   "execution_count": 69,
   "id": "f586eba2-fbf7-4db4-a782-cf484746d9a5",
   "metadata": {},
   "outputs": [
    {
     "data": {
      "text/plain": [
       "0.9573333333333334"
      ]
     },
     "execution_count": 69,
     "metadata": {},
     "output_type": "execute_result"
    }
   ],
   "source": [
    "classes_preds = model.predict(new_features_preprocessed)\n",
    "\n",
    "recall_score(classes_preprocessed, classes_preds)"
   ]
  },
  {
   "cell_type": "code",
   "execution_count": 70,
   "id": "79cad0e9-e931-4fef-82b3-01448cb170bd",
   "metadata": {},
   "outputs": [
    {
     "name": "stdout",
     "output_type": "stream",
     "text": [
      "====================\n",
      "MODEL REPORT\n",
      "Recall score: 0.9573\n",
      "Precision score: 0.2945\n",
      "\n",
      "Total cost spent: $25575\n",
      "Unnecessary Cost (model error): $16600\n",
      "Money Saved With the Model: $161925\n",
      "====================\n"
     ]
    }
   ],
   "source": [
    "model_report(classes_preprocessed, classes_preds)"
   ]
  },
  {
   "cell_type": "markdown",
   "id": "ae28c79d-7bfe-418d-ab36-d2cb6baec4fb",
   "metadata": {},
   "source": [
    "Our model saved us **$161.925,00**!"
   ]
  },
  {
   "cell_type": "code",
   "execution_count": null,
   "id": "fd866f80-90b3-4185-9d71-c8b7a8b22e3e",
   "metadata": {},
   "outputs": [],
   "source": []
  }
 ],
 "metadata": {
  "kernelspec": {
   "display_name": "Python 3 (ipykernel)",
   "language": "python",
   "name": "python3"
  },
  "language_info": {
   "codemirror_mode": {
    "name": "ipython",
    "version": 3
   },
   "file_extension": ".py",
   "mimetype": "text/x-python",
   "name": "python",
   "nbconvert_exporter": "python",
   "pygments_lexer": "ipython3",
   "version": "3.11.7"
  }
 },
 "nbformat": 4,
 "nbformat_minor": 5
}
